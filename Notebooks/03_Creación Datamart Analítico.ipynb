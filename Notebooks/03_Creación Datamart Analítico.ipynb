{
 "cells": [
  {
   "cell_type": "markdown",
   "id": "e94c9ba6-bf9c-4a7e-afb8-ec319c079cde",
   "metadata": {},
   "source": [
    "# Datamart Analítico"
   ]
  },
  {
   "cell_type": "markdown",
   "id": "33d1b642-8990-46c5-b541-7cd8623a0378",
   "metadata": {},
   "source": [
    "## Set Up"
   ]
  },
  {
   "cell_type": "code",
   "execution_count": 473,
   "id": "d34ed457-4636-410e-9d83-4ddc9102f9be",
   "metadata": {},
   "outputs": [],
   "source": [
    "import pandas as pd\n",
    "import numpy as np\n",
    "import seaborn as sns\n",
    "import matplotlib.pyplot as plt\n",
    "%matplotlib inline\n",
    "import sqlalchemy as sa\n",
    "\n",
    "%config IPCompleter.greedy = True"
   ]
  },
  {
   "cell_type": "markdown",
   "id": "f865c1e9-f5a1-4726-a1f9-16463a4dfed1",
   "metadata": {},
   "source": [
    "## Carga de Datasets"
   ]
  },
  {
   "cell_type": "code",
   "execution_count": 474,
   "id": "4a8b9d88-87fa-4696-83ec-6058d5dc8b39",
   "metadata": {},
   "outputs": [],
   "source": [
    "listings = pd.read_pickle('../Datos/listings.pickle')\n",
    "listings_det = pd.read_pickle('../Datos/listings_det.pickle')"
   ]
  },
  {
   "cell_type": "markdown",
   "id": "38d07712-923b-44a2-819d-052427124c21",
   "metadata": {},
   "source": [
    "Finalmente tenemos dos tablas principales:\n",
    "\n",
    "* listings\n",
    "* listings_det\n",
    "\n",
    "Sabemos que ambas comparten la variable 'id', por lo que podemos cruzarlas a partir de esa variable."
   ]
  },
  {
   "cell_type": "markdown",
   "id": "b86e348a-53aa-4126-bb6c-0f46c21b8f4a",
   "metadata": {},
   "source": [
    "La tabla que vamos a utilizar como principal es listings, ya que listings_det solo nos aporta datos adicionales de cada registro."
   ]
  },
  {
   "cell_type": "code",
   "execution_count": 475,
   "id": "91de2df0-fea9-4b11-85fa-bf9eedb09d80",
   "metadata": {},
   "outputs": [
    {
     "data": {
      "text/plain": [
       "(5249, 10)"
      ]
     },
     "execution_count": 475,
     "metadata": {},
     "output_type": "execute_result"
    }
   ],
   "source": [
    "listings.shape"
   ]
  },
  {
   "cell_type": "code",
   "execution_count": 476,
   "id": "dcdf8365-89b2-44ab-b6f3-e69d9a2c0e8e",
   "metadata": {},
   "outputs": [
    {
     "data": {
      "text/plain": [
       "(7844, 4)"
      ]
     },
     "execution_count": 476,
     "metadata": {},
     "output_type": "execute_result"
    }
   ],
   "source": [
    "listings_det.shape"
   ]
  },
  {
   "cell_type": "markdown",
   "id": "15be7753-f6eb-4cc7-a455-4bc291f4599f",
   "metadata": {},
   "source": [
    "## Unión de Datasets"
   ]
  },
  {
   "cell_type": "markdown",
   "id": "0f2e0d2b-1096-40d9-a90a-7f4b1088475d",
   "metadata": {},
   "source": [
    "### Left join de las tablas"
   ]
  },
  {
   "cell_type": "markdown",
   "id": "d70e2116-8ade-48f7-a856-cfc37f5d3d78",
   "metadata": {},
   "source": [
    "Unimos ambas tablas y creamos una única llamada df"
   ]
  },
  {
   "cell_type": "code",
   "execution_count": 477,
   "id": "aae87508-9011-408c-a111-2318b9c98801",
   "metadata": {},
   "outputs": [
    {
     "name": "stdout",
     "output_type": "stream",
     "text": [
      "(5249, 14)\n"
     ]
    },
    {
     "data": {
      "text/html": [
       "<div>\n",
       "<style scoped>\n",
       "    .dataframe tbody tr th:only-of-type {\n",
       "        vertical-align: middle;\n",
       "    }\n",
       "\n",
       "    .dataframe tbody tr th {\n",
       "        vertical-align: top;\n",
       "    }\n",
       "\n",
       "    .dataframe thead th {\n",
       "        text-align: right;\n",
       "    }\n",
       "</style>\n",
       "<table border=\"1\" class=\"dataframe\">\n",
       "  <thead>\n",
       "    <tr style=\"text-align: right;\">\n",
       "      <th></th>\n",
       "      <th>id</th>\n",
       "      <th>host_id</th>\n",
       "      <th>distrito</th>\n",
       "      <th>barrio</th>\n",
       "      <th>latitude</th>\n",
       "      <th>longitude</th>\n",
       "      <th>tipo_alquiler</th>\n",
       "      <th>minimo_noches</th>\n",
       "      <th>total_inmuebles_host</th>\n",
       "      <th>disponibilidad_365</th>\n",
       "      <th>precio</th>\n",
       "      <th>accommodates</th>\n",
       "      <th>bedrooms</th>\n",
       "      <th>beds</th>\n",
       "    </tr>\n",
       "  </thead>\n",
       "  <tbody>\n",
       "    <tr>\n",
       "      <th>0</th>\n",
       "      <td>48154</td>\n",
       "      <td>219476</td>\n",
       "      <td>LA SAIDIA</td>\n",
       "      <td>MORVEDRE</td>\n",
       "      <td>39.48375</td>\n",
       "      <td>-0.37502</td>\n",
       "      <td>Entire home/apt</td>\n",
       "      <td>3</td>\n",
       "      <td>4</td>\n",
       "      <td>150</td>\n",
       "      <td>117.50</td>\n",
       "      <td>4</td>\n",
       "      <td>2.0</td>\n",
       "      <td>2.0</td>\n",
       "    </tr>\n",
       "    <tr>\n",
       "      <th>1</th>\n",
       "      <td>137143</td>\n",
       "      <td>670775</td>\n",
       "      <td>POBLATS DEL SUD</td>\n",
       "      <td>EL SALER</td>\n",
       "      <td>39.36335</td>\n",
       "      <td>-0.31932</td>\n",
       "      <td>Entire home/apt</td>\n",
       "      <td>10</td>\n",
       "      <td>5</td>\n",
       "      <td>30</td>\n",
       "      <td>408.25</td>\n",
       "      <td>7</td>\n",
       "      <td>1.0</td>\n",
       "      <td>14.0</td>\n",
       "    </tr>\n",
       "    <tr>\n",
       "      <th>2</th>\n",
       "      <td>149715</td>\n",
       "      <td>5947</td>\n",
       "      <td>POBLATS MARITIMS</td>\n",
       "      <td>CABANYAL-CANYAMELAR</td>\n",
       "      <td>39.46746</td>\n",
       "      <td>-0.32813</td>\n",
       "      <td>Entire home/apt</td>\n",
       "      <td>2</td>\n",
       "      <td>1</td>\n",
       "      <td>304</td>\n",
       "      <td>269.00</td>\n",
       "      <td>10</td>\n",
       "      <td>5.0</td>\n",
       "      <td>7.0</td>\n",
       "    </tr>\n",
       "  </tbody>\n",
       "</table>\n",
       "</div>"
      ],
      "text/plain": [
       "       id  host_id          distrito               barrio  latitude  \\\n",
       "0   48154   219476         LA SAIDIA             MORVEDRE  39.48375   \n",
       "1  137143   670775   POBLATS DEL SUD             EL SALER  39.36335   \n",
       "2  149715     5947  POBLATS MARITIMS  CABANYAL-CANYAMELAR  39.46746   \n",
       "\n",
       "   longitude    tipo_alquiler  minimo_noches  total_inmuebles_host  \\\n",
       "0   -0.37502  Entire home/apt              3                     4   \n",
       "1   -0.31932  Entire home/apt             10                     5   \n",
       "2   -0.32813  Entire home/apt              2                     1   \n",
       "\n",
       "   disponibilidad_365  precio  accommodates  bedrooms  beds  \n",
       "0                 150  117.50             4       2.0   2.0  \n",
       "1                  30  408.25             7       1.0  14.0  \n",
       "2                 304  269.00            10       5.0   7.0  "
      ]
     },
     "execution_count": 477,
     "metadata": {},
     "output_type": "execute_result"
    }
   ],
   "source": [
    "df = pd.merge(left = listings, right = listings_det, how = 'left', on = 'id')\n",
    "print(df.shape)\n",
    "df.head(3)"
   ]
  },
  {
   "cell_type": "markdown",
   "id": "4a3dd5de-93de-44ca-a0c1-4b1eefc7cf41",
   "metadata": {},
   "source": [
    "Finalmente tenemos una tabla con 5.249 resgistros y 14 variables"
   ]
  },
  {
   "cell_type": "markdown",
   "id": "baa61e62-d967-4c4a-ad0e-881ab551b61d",
   "metadata": {},
   "source": [
    "### Tabla df_cliente"
   ]
  },
  {
   "cell_type": "markdown",
   "id": "ff17b128-e37e-45dd-852b-f43e2d3ab392",
   "metadata": {},
   "source": [
    "Es el momento de extraer los inmuebles de la empresa que nos propone el estudio.\n",
    "\n",
    "Para ello, vamos a localizar el host_id de la empresa.\n",
    "\n",
    "Accedemos a la tabla sep25 donde teníamos la variable host_id y localizamos el número de host que nos ha proporcionado la empresa '439630774'"
   ]
  },
  {
   "cell_type": "markdown",
   "id": "22e0e25b-88b8-4b0f-8272-9ae0c53092c5",
   "metadata": {},
   "source": [
    "Creamos df_propios con los imbuebles de la empresa"
   ]
  },
  {
   "cell_type": "code",
   "execution_count": 478,
   "id": "f0b64f38-b5d7-4a1b-8c8d-46dafea5f4de",
   "metadata": {},
   "outputs": [],
   "source": [
    "host_id_cliente = 439630774"
   ]
  },
  {
   "cell_type": "code",
   "execution_count": 479,
   "id": "c432625d-c07a-4537-b788-0e08d0ecbfd2",
   "metadata": {},
   "outputs": [
    {
     "name": "stdout",
     "output_type": "stream",
     "text": [
      "(16, 14)\n"
     ]
    },
    {
     "data": {
      "text/html": [
       "<div>\n",
       "<style scoped>\n",
       "    .dataframe tbody tr th:only-of-type {\n",
       "        vertical-align: middle;\n",
       "    }\n",
       "\n",
       "    .dataframe tbody tr th {\n",
       "        vertical-align: top;\n",
       "    }\n",
       "\n",
       "    .dataframe thead th {\n",
       "        text-align: right;\n",
       "    }\n",
       "</style>\n",
       "<table border=\"1\" class=\"dataframe\">\n",
       "  <thead>\n",
       "    <tr style=\"text-align: right;\">\n",
       "      <th></th>\n",
       "      <th>id</th>\n",
       "      <th>host_id</th>\n",
       "      <th>distrito</th>\n",
       "      <th>barrio</th>\n",
       "      <th>latitude</th>\n",
       "      <th>longitude</th>\n",
       "      <th>tipo_alquiler</th>\n",
       "      <th>minimo_noches</th>\n",
       "      <th>total_inmuebles_host</th>\n",
       "      <th>disponibilidad_365</th>\n",
       "      <th>precio</th>\n",
       "      <th>accommodates</th>\n",
       "      <th>bedrooms</th>\n",
       "      <th>beds</th>\n",
       "    </tr>\n",
       "  </thead>\n",
       "  <tbody>\n",
       "    <tr>\n",
       "      <th>1647</th>\n",
       "      <td>54220649</td>\n",
       "      <td>439630774</td>\n",
       "      <td>LA SAIDIA</td>\n",
       "      <td>TORMOS</td>\n",
       "      <td>39.488280</td>\n",
       "      <td>-0.380240</td>\n",
       "      <td>Entire home/apt</td>\n",
       "      <td>2</td>\n",
       "      <td>16</td>\n",
       "      <td>319</td>\n",
       "      <td>67.666667</td>\n",
       "      <td>3</td>\n",
       "      <td>1.0</td>\n",
       "      <td>2.0</td>\n",
       "    </tr>\n",
       "    <tr>\n",
       "      <th>1950</th>\n",
       "      <td>674938867045217998</td>\n",
       "      <td>439630774</td>\n",
       "      <td>LA SAIDIA</td>\n",
       "      <td>TORMOS</td>\n",
       "      <td>39.487720</td>\n",
       "      <td>-0.379680</td>\n",
       "      <td>Entire home/apt</td>\n",
       "      <td>2</td>\n",
       "      <td>16</td>\n",
       "      <td>339</td>\n",
       "      <td>71.500000</td>\n",
       "      <td>3</td>\n",
       "      <td>1.0</td>\n",
       "      <td>2.0</td>\n",
       "    </tr>\n",
       "    <tr>\n",
       "      <th>2037</th>\n",
       "      <td>728923357550786379</td>\n",
       "      <td>439630774</td>\n",
       "      <td>JESUS</td>\n",
       "      <td>SANT MARCEL.LI</td>\n",
       "      <td>39.447440</td>\n",
       "      <td>-0.391240</td>\n",
       "      <td>Entire home/apt</td>\n",
       "      <td>2</td>\n",
       "      <td>16</td>\n",
       "      <td>360</td>\n",
       "      <td>69.000000</td>\n",
       "      <td>3</td>\n",
       "      <td>1.0</td>\n",
       "      <td>2.0</td>\n",
       "    </tr>\n",
       "    <tr>\n",
       "      <th>2038</th>\n",
       "      <td>728931005416548497</td>\n",
       "      <td>439630774</td>\n",
       "      <td>JESUS</td>\n",
       "      <td>CAMI REAL</td>\n",
       "      <td>39.447520</td>\n",
       "      <td>-0.392730</td>\n",
       "      <td>Entire home/apt</td>\n",
       "      <td>2</td>\n",
       "      <td>16</td>\n",
       "      <td>355</td>\n",
       "      <td>74.750000</td>\n",
       "      <td>3</td>\n",
       "      <td>1.0</td>\n",
       "      <td>2.0</td>\n",
       "    </tr>\n",
       "    <tr>\n",
       "      <th>2041</th>\n",
       "      <td>731830316592211463</td>\n",
       "      <td>439630774</td>\n",
       "      <td>JESUS</td>\n",
       "      <td>CAMI REAL</td>\n",
       "      <td>39.445670</td>\n",
       "      <td>-0.393130</td>\n",
       "      <td>Entire home/apt</td>\n",
       "      <td>2</td>\n",
       "      <td>16</td>\n",
       "      <td>318</td>\n",
       "      <td>82.333333</td>\n",
       "      <td>3</td>\n",
       "      <td>1.0</td>\n",
       "      <td>2.0</td>\n",
       "    </tr>\n",
       "    <tr>\n",
       "      <th>2204</th>\n",
       "      <td>818549269734561878</td>\n",
       "      <td>439630774</td>\n",
       "      <td>JESUS</td>\n",
       "      <td>SANT MARCEL.LI</td>\n",
       "      <td>39.443087</td>\n",
       "      <td>-0.393127</td>\n",
       "      <td>Entire home/apt</td>\n",
       "      <td>2</td>\n",
       "      <td>16</td>\n",
       "      <td>329</td>\n",
       "      <td>69.000000</td>\n",
       "      <td>2</td>\n",
       "      <td>1.0</td>\n",
       "      <td>1.0</td>\n",
       "    </tr>\n",
       "    <tr>\n",
       "      <th>2252</th>\n",
       "      <td>840531769713442727</td>\n",
       "      <td>439630774</td>\n",
       "      <td>PATRAIX</td>\n",
       "      <td>SANT ISIDRE</td>\n",
       "      <td>39.450790</td>\n",
       "      <td>-0.403170</td>\n",
       "      <td>Entire home/apt</td>\n",
       "      <td>2</td>\n",
       "      <td>16</td>\n",
       "      <td>348</td>\n",
       "      <td>77.250000</td>\n",
       "      <td>3</td>\n",
       "      <td>1.0</td>\n",
       "      <td>3.0</td>\n",
       "    </tr>\n",
       "    <tr>\n",
       "      <th>2413</th>\n",
       "      <td>900712969289655264</td>\n",
       "      <td>439630774</td>\n",
       "      <td>ALGIROS</td>\n",
       "      <td>L'AMISTAT</td>\n",
       "      <td>39.471532</td>\n",
       "      <td>-0.350437</td>\n",
       "      <td>Entire home/apt</td>\n",
       "      <td>2</td>\n",
       "      <td>16</td>\n",
       "      <td>334</td>\n",
       "      <td>81.500000</td>\n",
       "      <td>3</td>\n",
       "      <td>1.0</td>\n",
       "      <td>2.0</td>\n",
       "    </tr>\n",
       "    <tr>\n",
       "      <th>2548</th>\n",
       "      <td>933385516867765128</td>\n",
       "      <td>439630774</td>\n",
       "      <td>JESUS</td>\n",
       "      <td>SANT MARCEL.LI</td>\n",
       "      <td>39.443295</td>\n",
       "      <td>-0.390208</td>\n",
       "      <td>Entire home/apt</td>\n",
       "      <td>2</td>\n",
       "      <td>16</td>\n",
       "      <td>313</td>\n",
       "      <td>70.250000</td>\n",
       "      <td>3</td>\n",
       "      <td>1.0</td>\n",
       "      <td>2.0</td>\n",
       "    </tr>\n",
       "    <tr>\n",
       "      <th>2549</th>\n",
       "      <td>933417004682164891</td>\n",
       "      <td>439630774</td>\n",
       "      <td>JESUS</td>\n",
       "      <td>SANT MARCEL.LI</td>\n",
       "      <td>39.444710</td>\n",
       "      <td>-0.390400</td>\n",
       "      <td>Entire home/apt</td>\n",
       "      <td>2</td>\n",
       "      <td>16</td>\n",
       "      <td>343</td>\n",
       "      <td>78.250000</td>\n",
       "      <td>3</td>\n",
       "      <td>1.0</td>\n",
       "      <td>2.0</td>\n",
       "    </tr>\n",
       "    <tr>\n",
       "      <th>2564</th>\n",
       "      <td>938171554036156106</td>\n",
       "      <td>439630774</td>\n",
       "      <td>JESUS</td>\n",
       "      <td>SANT MARCEL.LI</td>\n",
       "      <td>39.444710</td>\n",
       "      <td>-0.390420</td>\n",
       "      <td>Entire home/apt</td>\n",
       "      <td>2</td>\n",
       "      <td>16</td>\n",
       "      <td>361</td>\n",
       "      <td>67.750000</td>\n",
       "      <td>3</td>\n",
       "      <td>1.0</td>\n",
       "      <td>1.0</td>\n",
       "    </tr>\n",
       "    <tr>\n",
       "      <th>2565</th>\n",
       "      <td>938273823599675799</td>\n",
       "      <td>439630774</td>\n",
       "      <td>JESUS</td>\n",
       "      <td>SANT MARCEL.LI</td>\n",
       "      <td>39.443570</td>\n",
       "      <td>-0.390440</td>\n",
       "      <td>Entire home/apt</td>\n",
       "      <td>2</td>\n",
       "      <td>16</td>\n",
       "      <td>324</td>\n",
       "      <td>70.250000</td>\n",
       "      <td>3</td>\n",
       "      <td>1.0</td>\n",
       "      <td>2.0</td>\n",
       "    </tr>\n",
       "    <tr>\n",
       "      <th>2819</th>\n",
       "      <td>1015212781017874799</td>\n",
       "      <td>439630774</td>\n",
       "      <td>JESUS</td>\n",
       "      <td>SANT MARCEL.LI</td>\n",
       "      <td>39.443637</td>\n",
       "      <td>-0.390352</td>\n",
       "      <td>Entire home/apt</td>\n",
       "      <td>2</td>\n",
       "      <td>16</td>\n",
       "      <td>144</td>\n",
       "      <td>66.000000</td>\n",
       "      <td>3</td>\n",
       "      <td>1.0</td>\n",
       "      <td>3.0</td>\n",
       "    </tr>\n",
       "    <tr>\n",
       "      <th>2820</th>\n",
       "      <td>1015243787372229143</td>\n",
       "      <td>439630774</td>\n",
       "      <td>JESUS</td>\n",
       "      <td>SANT MARCEL.LI</td>\n",
       "      <td>39.443860</td>\n",
       "      <td>-0.390680</td>\n",
       "      <td>Entire home/apt</td>\n",
       "      <td>2</td>\n",
       "      <td>16</td>\n",
       "      <td>358</td>\n",
       "      <td>79.000000</td>\n",
       "      <td>3</td>\n",
       "      <td>1.0</td>\n",
       "      <td>3.0</td>\n",
       "    </tr>\n",
       "    <tr>\n",
       "      <th>2848</th>\n",
       "      <td>1023226080093194204</td>\n",
       "      <td>439630774</td>\n",
       "      <td>JESUS</td>\n",
       "      <td>SANT MARCEL.LI</td>\n",
       "      <td>39.445540</td>\n",
       "      <td>-0.388540</td>\n",
       "      <td>Entire home/apt</td>\n",
       "      <td>2</td>\n",
       "      <td>16</td>\n",
       "      <td>346</td>\n",
       "      <td>67.333333</td>\n",
       "      <td>3</td>\n",
       "      <td>1.0</td>\n",
       "      <td>2.0</td>\n",
       "    </tr>\n",
       "    <tr>\n",
       "      <th>2849</th>\n",
       "      <td>1023252043151455456</td>\n",
       "      <td>439630774</td>\n",
       "      <td>JESUS</td>\n",
       "      <td>SANT MARCEL.LI</td>\n",
       "      <td>39.443450</td>\n",
       "      <td>-0.388471</td>\n",
       "      <td>Entire home/apt</td>\n",
       "      <td>2</td>\n",
       "      <td>16</td>\n",
       "      <td>355</td>\n",
       "      <td>70.000000</td>\n",
       "      <td>3</td>\n",
       "      <td>1.0</td>\n",
       "      <td>2.0</td>\n",
       "    </tr>\n",
       "  </tbody>\n",
       "</table>\n",
       "</div>"
      ],
      "text/plain": [
       "                       id    host_id   distrito          barrio   latitude  \\\n",
       "1647             54220649  439630774  LA SAIDIA          TORMOS  39.488280   \n",
       "1950   674938867045217998  439630774  LA SAIDIA          TORMOS  39.487720   \n",
       "2037   728923357550786379  439630774      JESUS  SANT MARCEL.LI  39.447440   \n",
       "2038   728931005416548497  439630774      JESUS       CAMI REAL  39.447520   \n",
       "2041   731830316592211463  439630774      JESUS       CAMI REAL  39.445670   \n",
       "2204   818549269734561878  439630774      JESUS  SANT MARCEL.LI  39.443087   \n",
       "2252   840531769713442727  439630774    PATRAIX     SANT ISIDRE  39.450790   \n",
       "2413   900712969289655264  439630774    ALGIROS       L'AMISTAT  39.471532   \n",
       "2548   933385516867765128  439630774      JESUS  SANT MARCEL.LI  39.443295   \n",
       "2549   933417004682164891  439630774      JESUS  SANT MARCEL.LI  39.444710   \n",
       "2564   938171554036156106  439630774      JESUS  SANT MARCEL.LI  39.444710   \n",
       "2565   938273823599675799  439630774      JESUS  SANT MARCEL.LI  39.443570   \n",
       "2819  1015212781017874799  439630774      JESUS  SANT MARCEL.LI  39.443637   \n",
       "2820  1015243787372229143  439630774      JESUS  SANT MARCEL.LI  39.443860   \n",
       "2848  1023226080093194204  439630774      JESUS  SANT MARCEL.LI  39.445540   \n",
       "2849  1023252043151455456  439630774      JESUS  SANT MARCEL.LI  39.443450   \n",
       "\n",
       "      longitude    tipo_alquiler  minimo_noches  total_inmuebles_host  \\\n",
       "1647  -0.380240  Entire home/apt              2                    16   \n",
       "1950  -0.379680  Entire home/apt              2                    16   \n",
       "2037  -0.391240  Entire home/apt              2                    16   \n",
       "2038  -0.392730  Entire home/apt              2                    16   \n",
       "2041  -0.393130  Entire home/apt              2                    16   \n",
       "2204  -0.393127  Entire home/apt              2                    16   \n",
       "2252  -0.403170  Entire home/apt              2                    16   \n",
       "2413  -0.350437  Entire home/apt              2                    16   \n",
       "2548  -0.390208  Entire home/apt              2                    16   \n",
       "2549  -0.390400  Entire home/apt              2                    16   \n",
       "2564  -0.390420  Entire home/apt              2                    16   \n",
       "2565  -0.390440  Entire home/apt              2                    16   \n",
       "2819  -0.390352  Entire home/apt              2                    16   \n",
       "2820  -0.390680  Entire home/apt              2                    16   \n",
       "2848  -0.388540  Entire home/apt              2                    16   \n",
       "2849  -0.388471  Entire home/apt              2                    16   \n",
       "\n",
       "      disponibilidad_365     precio  accommodates  bedrooms  beds  \n",
       "1647                 319  67.666667             3       1.0   2.0  \n",
       "1950                 339  71.500000             3       1.0   2.0  \n",
       "2037                 360  69.000000             3       1.0   2.0  \n",
       "2038                 355  74.750000             3       1.0   2.0  \n",
       "2041                 318  82.333333             3       1.0   2.0  \n",
       "2204                 329  69.000000             2       1.0   1.0  \n",
       "2252                 348  77.250000             3       1.0   3.0  \n",
       "2413                 334  81.500000             3       1.0   2.0  \n",
       "2548                 313  70.250000             3       1.0   2.0  \n",
       "2549                 343  78.250000             3       1.0   2.0  \n",
       "2564                 361  67.750000             3       1.0   1.0  \n",
       "2565                 324  70.250000             3       1.0   2.0  \n",
       "2819                 144  66.000000             3       1.0   3.0  \n",
       "2820                 358  79.000000             3       1.0   3.0  \n",
       "2848                 346  67.333333             3       1.0   2.0  \n",
       "2849                 355  70.000000             3       1.0   2.0  "
      ]
     },
     "execution_count": 479,
     "metadata": {},
     "output_type": "execute_result"
    }
   ],
   "source": [
    "df_cliente = df[df['host_id'] == host_id_cliente].copy()\n",
    "print(df_cliente.shape)\n",
    "df_cliente"
   ]
  },
  {
   "cell_type": "markdown",
   "id": "56904ea2-d05a-41a6-9d85-4002b97a0676",
   "metadata": {},
   "source": [
    "La empresa tiene un total de 16 inmuebles repartidos por la ciudad de Valencia"
   ]
  },
  {
   "cell_type": "markdown",
   "id": "08d66a11-a593-435f-ac9a-19b6088bc384",
   "metadata": {},
   "source": [
    "Para hacernos una idea visual de dónde se encuentran, vamos a visualizarlos en un mapa"
   ]
  },
  {
   "cell_type": "code",
   "execution_count": 480,
   "id": "e211ad69-ecb9-4da0-b475-c7f0e7fdab4e",
   "metadata": {},
   "outputs": [],
   "source": [
    "import folium"
   ]
  },
  {
   "cell_type": "code",
   "execution_count": 481,
   "id": "42e67671-4e5c-48dc-8467-e72b70db5958",
   "metadata": {},
   "outputs": [
    {
     "data": {
      "text/html": [
       "<iframe srcdoc=\"&lt;!DOCTYPE html&gt;\n",
       "&lt;html&gt;\n",
       "&lt;head&gt;\n",
       "    \n",
       "    &lt;meta http-equiv=&quot;content-type&quot; content=&quot;text/html; charset=UTF-8&quot; /&gt;\n",
       "    \n",
       "        &lt;script&gt;\n",
       "            L_NO_TOUCH = false;\n",
       "            L_DISABLE_3D = false;\n",
       "        &lt;/script&gt;\n",
       "    \n",
       "    &lt;style&gt;html, body {width: 100%;height: 100%;margin: 0;padding: 0;}&lt;/style&gt;\n",
       "    &lt;style&gt;#map {position:absolute;top:0;bottom:0;right:0;left:0;}&lt;/style&gt;\n",
       "    &lt;script src=&quot;https://cdn.jsdelivr.net/npm/leaflet@1.9.3/dist/leaflet.js&quot;&gt;&lt;/script&gt;\n",
       "    &lt;script src=&quot;https://code.jquery.com/jquery-3.7.1.min.js&quot;&gt;&lt;/script&gt;\n",
       "    &lt;script src=&quot;https://cdn.jsdelivr.net/npm/bootstrap@5.2.2/dist/js/bootstrap.bundle.min.js&quot;&gt;&lt;/script&gt;\n",
       "    &lt;script src=&quot;https://cdnjs.cloudflare.com/ajax/libs/Leaflet.awesome-markers/2.0.2/leaflet.awesome-markers.js&quot;&gt;&lt;/script&gt;\n",
       "    &lt;link rel=&quot;stylesheet&quot; href=&quot;https://cdn.jsdelivr.net/npm/leaflet@1.9.3/dist/leaflet.css&quot;/&gt;\n",
       "    &lt;link rel=&quot;stylesheet&quot; href=&quot;https://cdn.jsdelivr.net/npm/bootstrap@5.2.2/dist/css/bootstrap.min.css&quot;/&gt;\n",
       "    &lt;link rel=&quot;stylesheet&quot; href=&quot;https://netdna.bootstrapcdn.com/bootstrap/3.0.0/css/bootstrap-glyphicons.css&quot;/&gt;\n",
       "    &lt;link rel=&quot;stylesheet&quot; href=&quot;https://cdn.jsdelivr.net/npm/@fortawesome/fontawesome-free@6.2.0/css/all.min.css&quot;/&gt;\n",
       "    &lt;link rel=&quot;stylesheet&quot; href=&quot;https://cdnjs.cloudflare.com/ajax/libs/Leaflet.awesome-markers/2.0.2/leaflet.awesome-markers.css&quot;/&gt;\n",
       "    &lt;link rel=&quot;stylesheet&quot; href=&quot;https://cdn.jsdelivr.net/gh/python-visualization/folium/folium/templates/leaflet.awesome.rotate.min.css&quot;/&gt;\n",
       "    \n",
       "            &lt;meta name=&quot;viewport&quot; content=&quot;width=device-width,\n",
       "                initial-scale=1.0, maximum-scale=1.0, user-scalable=no&quot; /&gt;\n",
       "            &lt;style&gt;\n",
       "                #map_87b38304689298b55e11f847baf60c6a {\n",
       "                    position: relative;\n",
       "                    width: 100.0%;\n",
       "                    height: 100.0%;\n",
       "                    left: 0.0%;\n",
       "                    top: 0.0%;\n",
       "                }\n",
       "                .leaflet-container { font-size: 1rem; }\n",
       "            &lt;/style&gt;\n",
       "        \n",
       "&lt;/head&gt;\n",
       "&lt;body&gt;\n",
       "    \n",
       "    \n",
       "            &lt;div class=&quot;folium-map&quot; id=&quot;map_87b38304689298b55e11f847baf60c6a&quot; &gt;&lt;/div&gt;\n",
       "        \n",
       "&lt;/body&gt;\n",
       "&lt;script&gt;\n",
       "    \n",
       "    \n",
       "            var map_87b38304689298b55e11f847baf60c6a = L.map(\n",
       "                &quot;map_87b38304689298b55e11f847baf60c6a&quot;,\n",
       "                {\n",
       "                    center: [39.4699, -0.3763],\n",
       "                    crs: L.CRS.EPSG3857,\n",
       "                    ...{\n",
       "  &quot;zoom&quot;: 12,\n",
       "  &quot;zoomControl&quot;: true,\n",
       "  &quot;preferCanvas&quot;: false,\n",
       "}\n",
       "\n",
       "                }\n",
       "            );\n",
       "\n",
       "            \n",
       "\n",
       "        \n",
       "    \n",
       "            var tile_layer_e8d259759b658ec33cb1c60a371b84b1 = L.tileLayer(\n",
       "                &quot;https://tile.openstreetmap.org/{z}/{x}/{y}.png&quot;,\n",
       "                {\n",
       "  &quot;minZoom&quot;: 0,\n",
       "  &quot;maxZoom&quot;: 19,\n",
       "  &quot;maxNativeZoom&quot;: 19,\n",
       "  &quot;noWrap&quot;: false,\n",
       "  &quot;attribution&quot;: &quot;\\u0026copy; \\u003ca href=\\&quot;https://www.openstreetmap.org/copyright\\&quot;\\u003eOpenStreetMap\\u003c/a\\u003e contributors&quot;,\n",
       "  &quot;subdomains&quot;: &quot;abc&quot;,\n",
       "  &quot;detectRetina&quot;: false,\n",
       "  &quot;tms&quot;: false,\n",
       "  &quot;opacity&quot;: 1,\n",
       "}\n",
       "\n",
       "            );\n",
       "        \n",
       "    \n",
       "            tile_layer_e8d259759b658ec33cb1c60a371b84b1.addTo(map_87b38304689298b55e11f847baf60c6a);\n",
       "        \n",
       "    \n",
       "            var marker_9f422b2acffc0a6cfd0e75e538833605 = L.marker(\n",
       "                [39.48828, -0.38024],\n",
       "                {\n",
       "}\n",
       "            ).addTo(map_87b38304689298b55e11f847baf60c6a);\n",
       "        \n",
       "    \n",
       "        var popup_e2b139cd9d5f44dfa7e8631d2737f18f = L.popup({\n",
       "  &quot;maxWidth&quot;: &quot;100%&quot;,\n",
       "});\n",
       "\n",
       "        \n",
       "            \n",
       "                var html_b7d7fa9023623128191bff80f6bf689d = $(`&lt;div id=&quot;html_b7d7fa9023623128191bff80f6bf689d&quot; style=&quot;width: 100.0%; height: 100.0%;&quot;&gt;67.66666666666667&lt;/div&gt;`)[0];\n",
       "                popup_e2b139cd9d5f44dfa7e8631d2737f18f.setContent(html_b7d7fa9023623128191bff80f6bf689d);\n",
       "            \n",
       "        \n",
       "\n",
       "        marker_9f422b2acffc0a6cfd0e75e538833605.bindPopup(popup_e2b139cd9d5f44dfa7e8631d2737f18f)\n",
       "        ;\n",
       "\n",
       "        \n",
       "    \n",
       "    \n",
       "            var marker_2df1bd3cfe6420c01d4fd8b45ca0851a = L.marker(\n",
       "                [39.48772, -0.37968],\n",
       "                {\n",
       "}\n",
       "            ).addTo(map_87b38304689298b55e11f847baf60c6a);\n",
       "        \n",
       "    \n",
       "        var popup_7f54b595291b808afd252afcbfab2c66 = L.popup({\n",
       "  &quot;maxWidth&quot;: &quot;100%&quot;,\n",
       "});\n",
       "\n",
       "        \n",
       "            \n",
       "                var html_dc371c154c454b1bd1819094a3b30337 = $(`&lt;div id=&quot;html_dc371c154c454b1bd1819094a3b30337&quot; style=&quot;width: 100.0%; height: 100.0%;&quot;&gt;71.5&lt;/div&gt;`)[0];\n",
       "                popup_7f54b595291b808afd252afcbfab2c66.setContent(html_dc371c154c454b1bd1819094a3b30337);\n",
       "            \n",
       "        \n",
       "\n",
       "        marker_2df1bd3cfe6420c01d4fd8b45ca0851a.bindPopup(popup_7f54b595291b808afd252afcbfab2c66)\n",
       "        ;\n",
       "\n",
       "        \n",
       "    \n",
       "    \n",
       "            var marker_4bb042ea72920fef4e5931ad4bf93460 = L.marker(\n",
       "                [39.44744, -0.39124],\n",
       "                {\n",
       "}\n",
       "            ).addTo(map_87b38304689298b55e11f847baf60c6a);\n",
       "        \n",
       "    \n",
       "        var popup_7109bcac7f762c81666c5b948e6b2d0f = L.popup({\n",
       "  &quot;maxWidth&quot;: &quot;100%&quot;,\n",
       "});\n",
       "\n",
       "        \n",
       "            \n",
       "                var html_e88d3cd2b1884b78917b81bb4a7a443b = $(`&lt;div id=&quot;html_e88d3cd2b1884b78917b81bb4a7a443b&quot; style=&quot;width: 100.0%; height: 100.0%;&quot;&gt;69.0&lt;/div&gt;`)[0];\n",
       "                popup_7109bcac7f762c81666c5b948e6b2d0f.setContent(html_e88d3cd2b1884b78917b81bb4a7a443b);\n",
       "            \n",
       "        \n",
       "\n",
       "        marker_4bb042ea72920fef4e5931ad4bf93460.bindPopup(popup_7109bcac7f762c81666c5b948e6b2d0f)\n",
       "        ;\n",
       "\n",
       "        \n",
       "    \n",
       "    \n",
       "            var marker_1ff4989c4be6fe91ffbef8baa6e5d38f = L.marker(\n",
       "                [39.44752, -0.39273],\n",
       "                {\n",
       "}\n",
       "            ).addTo(map_87b38304689298b55e11f847baf60c6a);\n",
       "        \n",
       "    \n",
       "        var popup_119c025d983d021a35a554ac4937bc94 = L.popup({\n",
       "  &quot;maxWidth&quot;: &quot;100%&quot;,\n",
       "});\n",
       "\n",
       "        \n",
       "            \n",
       "                var html_e55f3edd25a910984e38d1f67abbd57c = $(`&lt;div id=&quot;html_e55f3edd25a910984e38d1f67abbd57c&quot; style=&quot;width: 100.0%; height: 100.0%;&quot;&gt;74.75&lt;/div&gt;`)[0];\n",
       "                popup_119c025d983d021a35a554ac4937bc94.setContent(html_e55f3edd25a910984e38d1f67abbd57c);\n",
       "            \n",
       "        \n",
       "\n",
       "        marker_1ff4989c4be6fe91ffbef8baa6e5d38f.bindPopup(popup_119c025d983d021a35a554ac4937bc94)\n",
       "        ;\n",
       "\n",
       "        \n",
       "    \n",
       "    \n",
       "            var marker_205e6adebcd37fc949eb2fa20a6d0645 = L.marker(\n",
       "                [39.44567, -0.39313],\n",
       "                {\n",
       "}\n",
       "            ).addTo(map_87b38304689298b55e11f847baf60c6a);\n",
       "        \n",
       "    \n",
       "        var popup_52d95eae7eeb239fe85375b50e73bbce = L.popup({\n",
       "  &quot;maxWidth&quot;: &quot;100%&quot;,\n",
       "});\n",
       "\n",
       "        \n",
       "            \n",
       "                var html_d1b5687f94fd003845a477823b5d94e3 = $(`&lt;div id=&quot;html_d1b5687f94fd003845a477823b5d94e3&quot; style=&quot;width: 100.0%; height: 100.0%;&quot;&gt;82.33333333333333&lt;/div&gt;`)[0];\n",
       "                popup_52d95eae7eeb239fe85375b50e73bbce.setContent(html_d1b5687f94fd003845a477823b5d94e3);\n",
       "            \n",
       "        \n",
       "\n",
       "        marker_205e6adebcd37fc949eb2fa20a6d0645.bindPopup(popup_52d95eae7eeb239fe85375b50e73bbce)\n",
       "        ;\n",
       "\n",
       "        \n",
       "    \n",
       "    \n",
       "            var marker_91f019cb412db1cdbac97bbd7b58816d = L.marker(\n",
       "                [39.443086595640985, -0.3931268345031369],\n",
       "                {\n",
       "}\n",
       "            ).addTo(map_87b38304689298b55e11f847baf60c6a);\n",
       "        \n",
       "    \n",
       "        var popup_d196cd7bbdf626741fc80111480286f7 = L.popup({\n",
       "  &quot;maxWidth&quot;: &quot;100%&quot;,\n",
       "});\n",
       "\n",
       "        \n",
       "            \n",
       "                var html_406fcd2b7513a8fa31c9814797b58645 = $(`&lt;div id=&quot;html_406fcd2b7513a8fa31c9814797b58645&quot; style=&quot;width: 100.0%; height: 100.0%;&quot;&gt;69.0&lt;/div&gt;`)[0];\n",
       "                popup_d196cd7bbdf626741fc80111480286f7.setContent(html_406fcd2b7513a8fa31c9814797b58645);\n",
       "            \n",
       "        \n",
       "\n",
       "        marker_91f019cb412db1cdbac97bbd7b58816d.bindPopup(popup_d196cd7bbdf626741fc80111480286f7)\n",
       "        ;\n",
       "\n",
       "        \n",
       "    \n",
       "    \n",
       "            var marker_b98c7935cd4d8bc81d1e1da39cd2b2bb = L.marker(\n",
       "                [39.4507899799586, -0.4031698778271675],\n",
       "                {\n",
       "}\n",
       "            ).addTo(map_87b38304689298b55e11f847baf60c6a);\n",
       "        \n",
       "    \n",
       "        var popup_3500095eccefcb7ca9dc6402aa794d90 = L.popup({\n",
       "  &quot;maxWidth&quot;: &quot;100%&quot;,\n",
       "});\n",
       "\n",
       "        \n",
       "            \n",
       "                var html_49e52d7f478a1c6691a2cdd63a08c60a = $(`&lt;div id=&quot;html_49e52d7f478a1c6691a2cdd63a08c60a&quot; style=&quot;width: 100.0%; height: 100.0%;&quot;&gt;77.25&lt;/div&gt;`)[0];\n",
       "                popup_3500095eccefcb7ca9dc6402aa794d90.setContent(html_49e52d7f478a1c6691a2cdd63a08c60a);\n",
       "            \n",
       "        \n",
       "\n",
       "        marker_b98c7935cd4d8bc81d1e1da39cd2b2bb.bindPopup(popup_3500095eccefcb7ca9dc6402aa794d90)\n",
       "        ;\n",
       "\n",
       "        \n",
       "    \n",
       "    \n",
       "            var marker_be57a13d515999e40c6c02dd2dd6c2ce = L.marker(\n",
       "                [39.4715322, -0.3504374],\n",
       "                {\n",
       "}\n",
       "            ).addTo(map_87b38304689298b55e11f847baf60c6a);\n",
       "        \n",
       "    \n",
       "        var popup_e66ee625aaa5bc0ec88cf22bf179da49 = L.popup({\n",
       "  &quot;maxWidth&quot;: &quot;100%&quot;,\n",
       "});\n",
       "\n",
       "        \n",
       "            \n",
       "                var html_06528b92fe80562b59f581496610a8c4 = $(`&lt;div id=&quot;html_06528b92fe80562b59f581496610a8c4&quot; style=&quot;width: 100.0%; height: 100.0%;&quot;&gt;81.5&lt;/div&gt;`)[0];\n",
       "                popup_e66ee625aaa5bc0ec88cf22bf179da49.setContent(html_06528b92fe80562b59f581496610a8c4);\n",
       "            \n",
       "        \n",
       "\n",
       "        marker_be57a13d515999e40c6c02dd2dd6c2ce.bindPopup(popup_e66ee625aaa5bc0ec88cf22bf179da49)\n",
       "        ;\n",
       "\n",
       "        \n",
       "    \n",
       "    \n",
       "            var marker_bd6edf097bd3fe333a7ee375cba0b3fd = L.marker(\n",
       "                [39.44329508142006, -0.3902080847541288],\n",
       "                {\n",
       "}\n",
       "            ).addTo(map_87b38304689298b55e11f847baf60c6a);\n",
       "        \n",
       "    \n",
       "        var popup_b991c31d5b0a3a00eebd7d0f7df9d088 = L.popup({\n",
       "  &quot;maxWidth&quot;: &quot;100%&quot;,\n",
       "});\n",
       "\n",
       "        \n",
       "            \n",
       "                var html_58abbf1672c2ba889f8ff01723f0f814 = $(`&lt;div id=&quot;html_58abbf1672c2ba889f8ff01723f0f814&quot; style=&quot;width: 100.0%; height: 100.0%;&quot;&gt;70.25&lt;/div&gt;`)[0];\n",
       "                popup_b991c31d5b0a3a00eebd7d0f7df9d088.setContent(html_58abbf1672c2ba889f8ff01723f0f814);\n",
       "            \n",
       "        \n",
       "\n",
       "        marker_bd6edf097bd3fe333a7ee375cba0b3fd.bindPopup(popup_b991c31d5b0a3a00eebd7d0f7df9d088)\n",
       "        ;\n",
       "\n",
       "        \n",
       "    \n",
       "    \n",
       "            var marker_6964c0d5729fb8650be447cc82d58e89 = L.marker(\n",
       "                [39.44471, -0.3904],\n",
       "                {\n",
       "}\n",
       "            ).addTo(map_87b38304689298b55e11f847baf60c6a);\n",
       "        \n",
       "    \n",
       "        var popup_1ce7598d14d3856879c4f45dda0dda54 = L.popup({\n",
       "  &quot;maxWidth&quot;: &quot;100%&quot;,\n",
       "});\n",
       "\n",
       "        \n",
       "            \n",
       "                var html_10187929320ea46ce655ea43d27386d1 = $(`&lt;div id=&quot;html_10187929320ea46ce655ea43d27386d1&quot; style=&quot;width: 100.0%; height: 100.0%;&quot;&gt;78.25&lt;/div&gt;`)[0];\n",
       "                popup_1ce7598d14d3856879c4f45dda0dda54.setContent(html_10187929320ea46ce655ea43d27386d1);\n",
       "            \n",
       "        \n",
       "\n",
       "        marker_6964c0d5729fb8650be447cc82d58e89.bindPopup(popup_1ce7598d14d3856879c4f45dda0dda54)\n",
       "        ;\n",
       "\n",
       "        \n",
       "    \n",
       "    \n",
       "            var marker_6b7928cd18954104c6fdcf8ffca255d1 = L.marker(\n",
       "                [39.44471, -0.39042],\n",
       "                {\n",
       "}\n",
       "            ).addTo(map_87b38304689298b55e11f847baf60c6a);\n",
       "        \n",
       "    \n",
       "        var popup_f2ed2964112013ad74186041324e0a5d = L.popup({\n",
       "  &quot;maxWidth&quot;: &quot;100%&quot;,\n",
       "});\n",
       "\n",
       "        \n",
       "            \n",
       "                var html_f8eaeea24e7f6569f0b57f0b6286a2ac = $(`&lt;div id=&quot;html_f8eaeea24e7f6569f0b57f0b6286a2ac&quot; style=&quot;width: 100.0%; height: 100.0%;&quot;&gt;67.75&lt;/div&gt;`)[0];\n",
       "                popup_f2ed2964112013ad74186041324e0a5d.setContent(html_f8eaeea24e7f6569f0b57f0b6286a2ac);\n",
       "            \n",
       "        \n",
       "\n",
       "        marker_6b7928cd18954104c6fdcf8ffca255d1.bindPopup(popup_f2ed2964112013ad74186041324e0a5d)\n",
       "        ;\n",
       "\n",
       "        \n",
       "    \n",
       "    \n",
       "            var marker_33a1e050f5a407684c3d82ab5dc30796 = L.marker(\n",
       "                [39.44357, -0.39044],\n",
       "                {\n",
       "}\n",
       "            ).addTo(map_87b38304689298b55e11f847baf60c6a);\n",
       "        \n",
       "    \n",
       "        var popup_cd0ad8542efcb05b8ebece249859a302 = L.popup({\n",
       "  &quot;maxWidth&quot;: &quot;100%&quot;,\n",
       "});\n",
       "\n",
       "        \n",
       "            \n",
       "                var html_faf037bf5a464ba15ceb78990ee724bb = $(`&lt;div id=&quot;html_faf037bf5a464ba15ceb78990ee724bb&quot; style=&quot;width: 100.0%; height: 100.0%;&quot;&gt;70.25&lt;/div&gt;`)[0];\n",
       "                popup_cd0ad8542efcb05b8ebece249859a302.setContent(html_faf037bf5a464ba15ceb78990ee724bb);\n",
       "            \n",
       "        \n",
       "\n",
       "        marker_33a1e050f5a407684c3d82ab5dc30796.bindPopup(popup_cd0ad8542efcb05b8ebece249859a302)\n",
       "        ;\n",
       "\n",
       "        \n",
       "    \n",
       "    \n",
       "            var marker_e29f6a0b7087d91dc16998762b6a41de = L.marker(\n",
       "                [39.443636548364005, -0.3903515410852313],\n",
       "                {\n",
       "}\n",
       "            ).addTo(map_87b38304689298b55e11f847baf60c6a);\n",
       "        \n",
       "    \n",
       "        var popup_65bd67e53bec32db24c295512391ea06 = L.popup({\n",
       "  &quot;maxWidth&quot;: &quot;100%&quot;,\n",
       "});\n",
       "\n",
       "        \n",
       "            \n",
       "                var html_97835a537572beefb2cda389f39e9fb7 = $(`&lt;div id=&quot;html_97835a537572beefb2cda389f39e9fb7&quot; style=&quot;width: 100.0%; height: 100.0%;&quot;&gt;66.0&lt;/div&gt;`)[0];\n",
       "                popup_65bd67e53bec32db24c295512391ea06.setContent(html_97835a537572beefb2cda389f39e9fb7);\n",
       "            \n",
       "        \n",
       "\n",
       "        marker_e29f6a0b7087d91dc16998762b6a41de.bindPopup(popup_65bd67e53bec32db24c295512391ea06)\n",
       "        ;\n",
       "\n",
       "        \n",
       "    \n",
       "    \n",
       "            var marker_91ac36810f47e5c8214401bad7aeb14a = L.marker(\n",
       "                [39.44386, -0.39068],\n",
       "                {\n",
       "}\n",
       "            ).addTo(map_87b38304689298b55e11f847baf60c6a);\n",
       "        \n",
       "    \n",
       "        var popup_0e21c9705b70daf9aa090d4ccdb86001 = L.popup({\n",
       "  &quot;maxWidth&quot;: &quot;100%&quot;,\n",
       "});\n",
       "\n",
       "        \n",
       "            \n",
       "                var html_c935c7ce65b047fc4a5efcb2aac4dd3f = $(`&lt;div id=&quot;html_c935c7ce65b047fc4a5efcb2aac4dd3f&quot; style=&quot;width: 100.0%; height: 100.0%;&quot;&gt;79.0&lt;/div&gt;`)[0];\n",
       "                popup_0e21c9705b70daf9aa090d4ccdb86001.setContent(html_c935c7ce65b047fc4a5efcb2aac4dd3f);\n",
       "            \n",
       "        \n",
       "\n",
       "        marker_91ac36810f47e5c8214401bad7aeb14a.bindPopup(popup_0e21c9705b70daf9aa090d4ccdb86001)\n",
       "        ;\n",
       "\n",
       "        \n",
       "    \n",
       "    \n",
       "            var marker_cbe68adbbfff7c5fa9d8db32cbdff6be = L.marker(\n",
       "                [39.44554, -0.38854],\n",
       "                {\n",
       "}\n",
       "            ).addTo(map_87b38304689298b55e11f847baf60c6a);\n",
       "        \n",
       "    \n",
       "        var popup_7a8c42e7b32f5765ce7c9bc6ef41cba1 = L.popup({\n",
       "  &quot;maxWidth&quot;: &quot;100%&quot;,\n",
       "});\n",
       "\n",
       "        \n",
       "            \n",
       "                var html_fc87c3d4e885e107f739df4bda251400 = $(`&lt;div id=&quot;html_fc87c3d4e885e107f739df4bda251400&quot; style=&quot;width: 100.0%; height: 100.0%;&quot;&gt;67.33333333333333&lt;/div&gt;`)[0];\n",
       "                popup_7a8c42e7b32f5765ce7c9bc6ef41cba1.setContent(html_fc87c3d4e885e107f739df4bda251400);\n",
       "            \n",
       "        \n",
       "\n",
       "        marker_cbe68adbbfff7c5fa9d8db32cbdff6be.bindPopup(popup_7a8c42e7b32f5765ce7c9bc6ef41cba1)\n",
       "        ;\n",
       "\n",
       "        \n",
       "    \n",
       "    \n",
       "            var marker_0533481c178d768c359c015773c185a9 = L.marker(\n",
       "                [39.44344989430928, -0.3884708103323778],\n",
       "                {\n",
       "}\n",
       "            ).addTo(map_87b38304689298b55e11f847baf60c6a);\n",
       "        \n",
       "    \n",
       "        var popup_c7e68d915569c03f9660986a2a2ff37c = L.popup({\n",
       "  &quot;maxWidth&quot;: &quot;100%&quot;,\n",
       "});\n",
       "\n",
       "        \n",
       "            \n",
       "                var html_831a4b6736b27ce23cd10fd35cc7a2d8 = $(`&lt;div id=&quot;html_831a4b6736b27ce23cd10fd35cc7a2d8&quot; style=&quot;width: 100.0%; height: 100.0%;&quot;&gt;70.0&lt;/div&gt;`)[0];\n",
       "                popup_c7e68d915569c03f9660986a2a2ff37c.setContent(html_831a4b6736b27ce23cd10fd35cc7a2d8);\n",
       "            \n",
       "        \n",
       "\n",
       "        marker_0533481c178d768c359c015773c185a9.bindPopup(popup_c7e68d915569c03f9660986a2a2ff37c)\n",
       "        ;\n",
       "\n",
       "        \n",
       "    \n",
       "&lt;/script&gt;\n",
       "&lt;/html&gt;\" width=\"500\" height=\"350\"style=\"border:none !important;\" \"allowfullscreen\" \"webkitallowfullscreen\" \"mozallowfullscreen\"></iframe>"
      ],
      "text/plain": [
       "<folium.folium.Map at 0x1acf8374ce0>"
      ]
     },
     "execution_count": 481,
     "metadata": {},
     "output_type": "execute_result"
    }
   ],
   "source": [
    "fig = folium.Figure(width=500, height=350) \n",
    "mapa = folium.Map(location=[39.4699, -0.3763], zoom_start=12)\n",
    "mapa.add_to(fig)\n",
    "\n",
    "for piso in range(len(df_cliente)):\n",
    "    folium.Marker(\n",
    "        location=[df_cliente.iloc[piso]['latitude'], df_cliente.iloc[piso]['longitude']],\n",
    "        popup=df_cliente.iloc[piso]['precio'],\n",
    "    ).add_to(mapa)\n",
    "\n",
    "mapa"
   ]
  },
  {
   "cell_type": "markdown",
   "id": "e6f38efa-f232-4df3-b0e6-d84b7bebf5ab",
   "metadata": {},
   "source": [
    "### Tabla df"
   ]
  },
  {
   "cell_type": "markdown",
   "id": "b493a6f7-132f-4e0f-b300-e14abf16d2f4",
   "metadata": {},
   "source": [
    "Para realizar un análisis correcto, debemos extraer los inmuebles propios del data frame de análisis."
   ]
  },
  {
   "cell_type": "code",
   "execution_count": 482,
   "id": "823f9cfc-f719-4129-ab62-9922419fe007",
   "metadata": {},
   "outputs": [
    {
     "name": "stdout",
     "output_type": "stream",
     "text": [
      "(5233, 14)\n"
     ]
    },
    {
     "data": {
      "text/html": [
       "<div>\n",
       "<style scoped>\n",
       "    .dataframe tbody tr th:only-of-type {\n",
       "        vertical-align: middle;\n",
       "    }\n",
       "\n",
       "    .dataframe tbody tr th {\n",
       "        vertical-align: top;\n",
       "    }\n",
       "\n",
       "    .dataframe thead th {\n",
       "        text-align: right;\n",
       "    }\n",
       "</style>\n",
       "<table border=\"1\" class=\"dataframe\">\n",
       "  <thead>\n",
       "    <tr style=\"text-align: right;\">\n",
       "      <th></th>\n",
       "      <th>id</th>\n",
       "      <th>host_id</th>\n",
       "      <th>distrito</th>\n",
       "      <th>barrio</th>\n",
       "      <th>latitude</th>\n",
       "      <th>longitude</th>\n",
       "      <th>tipo_alquiler</th>\n",
       "      <th>minimo_noches</th>\n",
       "      <th>total_inmuebles_host</th>\n",
       "      <th>disponibilidad_365</th>\n",
       "      <th>precio</th>\n",
       "      <th>accommodates</th>\n",
       "      <th>bedrooms</th>\n",
       "      <th>beds</th>\n",
       "    </tr>\n",
       "  </thead>\n",
       "  <tbody>\n",
       "    <tr>\n",
       "      <th>0</th>\n",
       "      <td>48154</td>\n",
       "      <td>219476</td>\n",
       "      <td>LA SAIDIA</td>\n",
       "      <td>MORVEDRE</td>\n",
       "      <td>39.48375</td>\n",
       "      <td>-0.37502</td>\n",
       "      <td>Entire home/apt</td>\n",
       "      <td>3</td>\n",
       "      <td>4</td>\n",
       "      <td>150</td>\n",
       "      <td>117.50</td>\n",
       "      <td>4</td>\n",
       "      <td>2.0</td>\n",
       "      <td>2.0</td>\n",
       "    </tr>\n",
       "    <tr>\n",
       "      <th>1</th>\n",
       "      <td>137143</td>\n",
       "      <td>670775</td>\n",
       "      <td>POBLATS DEL SUD</td>\n",
       "      <td>EL SALER</td>\n",
       "      <td>39.36335</td>\n",
       "      <td>-0.31932</td>\n",
       "      <td>Entire home/apt</td>\n",
       "      <td>10</td>\n",
       "      <td>5</td>\n",
       "      <td>30</td>\n",
       "      <td>408.25</td>\n",
       "      <td>7</td>\n",
       "      <td>1.0</td>\n",
       "      <td>14.0</td>\n",
       "    </tr>\n",
       "    <tr>\n",
       "      <th>2</th>\n",
       "      <td>149715</td>\n",
       "      <td>5947</td>\n",
       "      <td>POBLATS MARITIMS</td>\n",
       "      <td>CABANYAL-CANYAMELAR</td>\n",
       "      <td>39.46746</td>\n",
       "      <td>-0.32813</td>\n",
       "      <td>Entire home/apt</td>\n",
       "      <td>2</td>\n",
       "      <td>1</td>\n",
       "      <td>304</td>\n",
       "      <td>269.00</td>\n",
       "      <td>10</td>\n",
       "      <td>5.0</td>\n",
       "      <td>7.0</td>\n",
       "    </tr>\n",
       "  </tbody>\n",
       "</table>\n",
       "</div>"
      ],
      "text/plain": [
       "       id  host_id          distrito               barrio  latitude  \\\n",
       "0   48154   219476         LA SAIDIA             MORVEDRE  39.48375   \n",
       "1  137143   670775   POBLATS DEL SUD             EL SALER  39.36335   \n",
       "2  149715     5947  POBLATS MARITIMS  CABANYAL-CANYAMELAR  39.46746   \n",
       "\n",
       "   longitude    tipo_alquiler  minimo_noches  total_inmuebles_host  \\\n",
       "0   -0.37502  Entire home/apt              3                     4   \n",
       "1   -0.31932  Entire home/apt             10                     5   \n",
       "2   -0.32813  Entire home/apt              2                     1   \n",
       "\n",
       "   disponibilidad_365  precio  accommodates  bedrooms  beds  \n",
       "0                 150  117.50             4       2.0   2.0  \n",
       "1                  30  408.25             7       1.0  14.0  \n",
       "2                 304  269.00            10       5.0   7.0  "
      ]
     },
     "execution_count": 482,
     "metadata": {},
     "output_type": "execute_result"
    }
   ],
   "source": [
    "df = df[df['host_id'] != host_id_cliente].copy()\n",
    "print(df.shape)\n",
    "df.head(3)"
   ]
  },
  {
   "cell_type": "markdown",
   "id": "ebe55110-6702-4ab5-9f50-85000eda10b6",
   "metadata": {},
   "source": [
    "Como hemos visto en el mapa anterior, los inmuebles de la empresa que nos solicita el análisis no se encuentran en la zona de la costa.\n",
    "\n",
    "Consideramos que la distancia a la playa es un sesgo que influye mucho en el precio del alquiler. Ya que ninguno de los inmuebles de nuestra empresa se encuentra en la playa, determinamos que vamos a quitar los inmuebles que se encuentren en los barrios de 'POBLATS MARITIMS' y 'POBLATS DEL SUD'"
   ]
  },
  {
   "cell_type": "code",
   "execution_count": 483,
   "id": "05f7eda2-04b0-46e7-bb20-1ae2c4c9031b",
   "metadata": {},
   "outputs": [],
   "source": [
    "df = df[~df['distrito'].isin(['POBLATS MARITIMS','POBLATS DEL SUD'])].copy()"
   ]
  },
  {
   "cell_type": "code",
   "execution_count": 484,
   "id": "6c34917e-66fb-4237-87e5-7de49688c4fb",
   "metadata": {},
   "outputs": [
    {
     "name": "stdout",
     "output_type": "stream",
     "text": [
      "(4098, 14)\n"
     ]
    },
    {
     "data": {
      "text/html": [
       "<div>\n",
       "<style scoped>\n",
       "    .dataframe tbody tr th:only-of-type {\n",
       "        vertical-align: middle;\n",
       "    }\n",
       "\n",
       "    .dataframe tbody tr th {\n",
       "        vertical-align: top;\n",
       "    }\n",
       "\n",
       "    .dataframe thead th {\n",
       "        text-align: right;\n",
       "    }\n",
       "</style>\n",
       "<table border=\"1\" class=\"dataframe\">\n",
       "  <thead>\n",
       "    <tr style=\"text-align: right;\">\n",
       "      <th></th>\n",
       "      <th>id</th>\n",
       "      <th>host_id</th>\n",
       "      <th>distrito</th>\n",
       "      <th>barrio</th>\n",
       "      <th>latitude</th>\n",
       "      <th>longitude</th>\n",
       "      <th>tipo_alquiler</th>\n",
       "      <th>minimo_noches</th>\n",
       "      <th>total_inmuebles_host</th>\n",
       "      <th>disponibilidad_365</th>\n",
       "      <th>precio</th>\n",
       "      <th>accommodates</th>\n",
       "      <th>bedrooms</th>\n",
       "      <th>beds</th>\n",
       "    </tr>\n",
       "  </thead>\n",
       "  <tbody>\n",
       "    <tr>\n",
       "      <th>0</th>\n",
       "      <td>48154</td>\n",
       "      <td>219476</td>\n",
       "      <td>LA SAIDIA</td>\n",
       "      <td>MORVEDRE</td>\n",
       "      <td>39.48375</td>\n",
       "      <td>-0.37502</td>\n",
       "      <td>Entire home/apt</td>\n",
       "      <td>3</td>\n",
       "      <td>4</td>\n",
       "      <td>150</td>\n",
       "      <td>117.50</td>\n",
       "      <td>4</td>\n",
       "      <td>2.0</td>\n",
       "      <td>2.0</td>\n",
       "    </tr>\n",
       "    <tr>\n",
       "      <th>3</th>\n",
       "      <td>165971</td>\n",
       "      <td>791187</td>\n",
       "      <td>EXTRAMURS</td>\n",
       "      <td>LA ROQUETA</td>\n",
       "      <td>39.46790</td>\n",
       "      <td>-0.38206</td>\n",
       "      <td>Entire home/apt</td>\n",
       "      <td>5</td>\n",
       "      <td>7</td>\n",
       "      <td>29</td>\n",
       "      <td>145.25</td>\n",
       "      <td>4</td>\n",
       "      <td>1.0</td>\n",
       "      <td>1.0</td>\n",
       "    </tr>\n",
       "    <tr>\n",
       "      <th>4</th>\n",
       "      <td>182221</td>\n",
       "      <td>1315567</td>\n",
       "      <td>CAMINS AL GRAU</td>\n",
       "      <td>AIORA</td>\n",
       "      <td>39.46343</td>\n",
       "      <td>-0.34325</td>\n",
       "      <td>Entire home/apt</td>\n",
       "      <td>3</td>\n",
       "      <td>1</td>\n",
       "      <td>176</td>\n",
       "      <td>745.00</td>\n",
       "      <td>5</td>\n",
       "      <td>2.0</td>\n",
       "      <td>5.0</td>\n",
       "    </tr>\n",
       "  </tbody>\n",
       "</table>\n",
       "</div>"
      ],
      "text/plain": [
       "       id  host_id        distrito      barrio  latitude  longitude  \\\n",
       "0   48154   219476       LA SAIDIA    MORVEDRE  39.48375   -0.37502   \n",
       "3  165971   791187       EXTRAMURS  LA ROQUETA  39.46790   -0.38206   \n",
       "4  182221  1315567  CAMINS AL GRAU       AIORA  39.46343   -0.34325   \n",
       "\n",
       "     tipo_alquiler  minimo_noches  total_inmuebles_host  disponibilidad_365  \\\n",
       "0  Entire home/apt              3                     4                 150   \n",
       "3  Entire home/apt              5                     7                  29   \n",
       "4  Entire home/apt              3                     1                 176   \n",
       "\n",
       "   precio  accommodates  bedrooms  beds  \n",
       "0  117.50             4       2.0   2.0  \n",
       "3  145.25             4       1.0   1.0  \n",
       "4  745.00             5       2.0   5.0  "
      ]
     },
     "execution_count": 484,
     "metadata": {},
     "output_type": "execute_result"
    }
   ],
   "source": [
    "print(df.shape)\n",
    "df.head(3)"
   ]
  },
  {
   "cell_type": "markdown",
   "id": "07a87ff0-5cc5-4c2f-b0aa-eb90b1a2717c",
   "metadata": {},
   "source": [
    "## Creación de Variables"
   ]
  },
  {
   "cell_type": "markdown",
   "id": "1a7547c0-2848-49d2-bbea-a651822311cc",
   "metadata": {},
   "source": [
    "### Variables \"Mercado\" y \"Cliente\""
   ]
  },
  {
   "cell_type": "markdown",
   "id": "b7e9b0d5-0416-4e69-ac7b-2117f31b2281",
   "metadata": {},
   "source": [
    "Añadimos las constantes 'mercado' y 'propio' a cada inmueble simplemente para facilitar su análisis posteriormente"
   ]
  },
  {
   "cell_type": "code",
   "execution_count": 485,
   "id": "dba0010e-2359-4e26-9b29-691e9088310f",
   "metadata": {},
   "outputs": [],
   "source": [
    "df['tipo_fuente'] = 'Mercado'\n",
    "df_cliente['tipo_fuente'] = 'Cliente'"
   ]
  },
  {
   "cell_type": "markdown",
   "id": "b1c35a7f-7bfd-4538-8f58-b57f4c791615",
   "metadata": {},
   "source": [
    "### Variable distancia_centro"
   ]
  },
  {
   "cell_type": "markdown",
   "id": "4a5f540c-e8e6-4627-99cd-cd08a66b733a",
   "metadata": {},
   "source": [
    "Vamos a crear una variable en la que calculemos la distancia de cada registro a un punto de interés.\n",
    "\n",
    "En nuestro caso, consideramos como punto de interés el centro de la ciudad de Valencia:\n",
    "\n",
    "* Plaza del Ayuntamiento (centro de la ciudad)\\\n",
    "Coordenadas: 39.4698 / -0.376364\n"
   ]
  },
  {
   "cell_type": "markdown",
   "id": "897a3c28-f018-4267-a098-d7065fa65f2e",
   "metadata": {},
   "source": [
    "Para poder calcular las distancias entre los puntos debemos tener en cuenta la curbatura de la tierra. \n",
    "\n",
    "La fórmula que debemos utilizar se llama Heversine y la calculamos con la siguiente función:"
   ]
  },
  {
   "cell_type": "code",
   "execution_count": 486,
   "id": "aaa7bb3e-c811-4e9b-9157-e6d5ae8d145c",
   "metadata": {},
   "outputs": [],
   "source": [
    "from math import radians, cos, sin, asin, sqrt\n",
    "\n",
    "def haversine(lat1, lon1, lat2, lon2):\n",
    "\n",
    "      R = 6372.8 #En km\n",
    "\n",
    "      dLat = radians(lat2 - lat1)\n",
    "      dLon = radians(lon2 - lon1)\n",
    "      lat1 = radians(lat1)\n",
    "      lat2 = radians(lat2)\n",
    "\n",
    "      a = sin(dLat/2)**2 + cos(lat1)*cos(lat2)*sin(dLon/2)**2\n",
    "      c = 2*asin(sqrt(a))\n",
    "\n",
    "      return R * c"
   ]
  },
  {
   "cell_type": "markdown",
   "id": "2b45198d-c7de-4e7a-ae74-e97133186d8d",
   "metadata": {},
   "source": [
    "#### Añadimos las variables a df"
   ]
  },
  {
   "cell_type": "markdown",
   "id": "9b07bc81-6d42-4a26-8bee-092eef14ffef",
   "metadata": {},
   "source": [
    "Creamos y añadimos la variable que calcule la distancia a la Plaza del Ayuntamiento de cada registro de df"
   ]
  },
  {
   "cell_type": "code",
   "execution_count": 487,
   "id": "a826f154-87f1-4363-a5a8-f67e45694ff4",
   "metadata": {},
   "outputs": [],
   "source": [
    "lat1 = 39.4698\n",
    "lon1 = -0.376364\n",
    "\n",
    "df['dis_centro'] = df.apply(lambda registro: haversine(lat1,lon1,registro.latitude,registro.longitude),axis = 1)"
   ]
  },
  {
   "cell_type": "code",
   "execution_count": 488,
   "id": "2dd48f3b-052f-4e23-a368-d1cf1f23d393",
   "metadata": {},
   "outputs": [
    {
     "name": "stdout",
     "output_type": "stream",
     "text": [
      "(4098, 16)\n"
     ]
    },
    {
     "data": {
      "text/html": [
       "<div>\n",
       "<style scoped>\n",
       "    .dataframe tbody tr th:only-of-type {\n",
       "        vertical-align: middle;\n",
       "    }\n",
       "\n",
       "    .dataframe tbody tr th {\n",
       "        vertical-align: top;\n",
       "    }\n",
       "\n",
       "    .dataframe thead th {\n",
       "        text-align: right;\n",
       "    }\n",
       "</style>\n",
       "<table border=\"1\" class=\"dataframe\">\n",
       "  <thead>\n",
       "    <tr style=\"text-align: right;\">\n",
       "      <th></th>\n",
       "      <th>id</th>\n",
       "      <th>host_id</th>\n",
       "      <th>distrito</th>\n",
       "      <th>barrio</th>\n",
       "      <th>latitude</th>\n",
       "      <th>longitude</th>\n",
       "      <th>tipo_alquiler</th>\n",
       "      <th>minimo_noches</th>\n",
       "      <th>total_inmuebles_host</th>\n",
       "      <th>disponibilidad_365</th>\n",
       "      <th>precio</th>\n",
       "      <th>accommodates</th>\n",
       "      <th>bedrooms</th>\n",
       "      <th>beds</th>\n",
       "      <th>tipo_fuente</th>\n",
       "      <th>dis_centro</th>\n",
       "    </tr>\n",
       "  </thead>\n",
       "  <tbody>\n",
       "    <tr>\n",
       "      <th>0</th>\n",
       "      <td>48154</td>\n",
       "      <td>219476</td>\n",
       "      <td>LA SAIDIA</td>\n",
       "      <td>MORVEDRE</td>\n",
       "      <td>39.48375</td>\n",
       "      <td>-0.37502</td>\n",
       "      <td>Entire home/apt</td>\n",
       "      <td>3</td>\n",
       "      <td>4</td>\n",
       "      <td>150</td>\n",
       "      <td>117.50</td>\n",
       "      <td>4</td>\n",
       "      <td>2.0</td>\n",
       "      <td>2.0</td>\n",
       "      <td>Mercado</td>\n",
       "      <td>1.555892</td>\n",
       "    </tr>\n",
       "    <tr>\n",
       "      <th>3</th>\n",
       "      <td>165971</td>\n",
       "      <td>791187</td>\n",
       "      <td>EXTRAMURS</td>\n",
       "      <td>LA ROQUETA</td>\n",
       "      <td>39.46790</td>\n",
       "      <td>-0.38206</td>\n",
       "      <td>Entire home/apt</td>\n",
       "      <td>5</td>\n",
       "      <td>7</td>\n",
       "      <td>29</td>\n",
       "      <td>145.25</td>\n",
       "      <td>4</td>\n",
       "      <td>1.0</td>\n",
       "      <td>1.0</td>\n",
       "      <td>Mercado</td>\n",
       "      <td>0.532783</td>\n",
       "    </tr>\n",
       "    <tr>\n",
       "      <th>4</th>\n",
       "      <td>182221</td>\n",
       "      <td>1315567</td>\n",
       "      <td>CAMINS AL GRAU</td>\n",
       "      <td>AIORA</td>\n",
       "      <td>39.46343</td>\n",
       "      <td>-0.34325</td>\n",
       "      <td>Entire home/apt</td>\n",
       "      <td>3</td>\n",
       "      <td>1</td>\n",
       "      <td>176</td>\n",
       "      <td>745.00</td>\n",
       "      <td>5</td>\n",
       "      <td>2.0</td>\n",
       "      <td>5.0</td>\n",
       "      <td>Mercado</td>\n",
       "      <td>2.930317</td>\n",
       "    </tr>\n",
       "  </tbody>\n",
       "</table>\n",
       "</div>"
      ],
      "text/plain": [
       "       id  host_id        distrito      barrio  latitude  longitude  \\\n",
       "0   48154   219476       LA SAIDIA    MORVEDRE  39.48375   -0.37502   \n",
       "3  165971   791187       EXTRAMURS  LA ROQUETA  39.46790   -0.38206   \n",
       "4  182221  1315567  CAMINS AL GRAU       AIORA  39.46343   -0.34325   \n",
       "\n",
       "     tipo_alquiler  minimo_noches  total_inmuebles_host  disponibilidad_365  \\\n",
       "0  Entire home/apt              3                     4                 150   \n",
       "3  Entire home/apt              5                     7                  29   \n",
       "4  Entire home/apt              3                     1                 176   \n",
       "\n",
       "   precio  accommodates  bedrooms  beds tipo_fuente  dis_centro  \n",
       "0  117.50             4       2.0   2.0     Mercado    1.555892  \n",
       "3  145.25             4       1.0   1.0     Mercado    0.532783  \n",
       "4  745.00             5       2.0   5.0     Mercado    2.930317  "
      ]
     },
     "execution_count": 488,
     "metadata": {},
     "output_type": "execute_result"
    }
   ],
   "source": [
    "print(df.shape)\n",
    "df.head(3)"
   ]
  },
  {
   "cell_type": "code",
   "execution_count": 489,
   "id": "f5b092ea-a238-4133-985c-a0cf65a3c38f",
   "metadata": {},
   "outputs": [
    {
     "data": {
      "text/plain": [
       "distrito\n",
       "CIUTAT VELLA         0.638681\n",
       "EXTRAMURS            0.920632\n",
       "L'EIXAMPLE           0.961343\n",
       "EL PLA DEL REAL      1.657427\n",
       "PATRAIX              1.696307\n",
       "LA SAIDIA            1.806978\n",
       "JESUS                1.868823\n",
       "QUATRE CARRERES      1.915001\n",
       "L'OLIVERETA          2.071361\n",
       "CAMPANAR             2.188987\n",
       "BENIMACLET           2.235667\n",
       "CAMINS AL GRAU       2.638918\n",
       "RASCANYA             2.674943\n",
       "ALGIROS              2.686621\n",
       "BENICALAP            3.014716\n",
       "POBLATS DE L'OEST    4.719944\n",
       "POBLATS DEL NORD     6.291123\n",
       "Name: dis_centro, dtype: float64"
      ]
     },
     "execution_count": 489,
     "metadata": {},
     "output_type": "execute_result"
    }
   ],
   "source": [
    "df.groupby('distrito', observed=True)['dis_centro'].mean().sort_values()"
   ]
  },
  {
   "cell_type": "markdown",
   "id": "bda32569-c8fd-4bb5-933a-489e58b717b3",
   "metadata": {},
   "source": [
    "Comprobamos que las distancias tienen sentido, ya que conocemos los barrios de Valencia."
   ]
  },
  {
   "cell_type": "markdown",
   "id": "3e22d08f-e07a-4ddb-920b-7ec856133d96",
   "metadata": {},
   "source": [
    "Vamos a realizar un primer análisis gráfico si existe relación entre el precio y la distancia al centro"
   ]
  },
  {
   "cell_type": "code",
   "execution_count": 490,
   "id": "56daa1ad-17a5-4b7c-b431-b93026504e18",
   "metadata": {},
   "outputs": [
    {
     "data": {
      "image/png": "[encoded data removed]",
      "text/plain": [
       "<Figure size 800x500 with 1 Axes>"
      ]
     },
     "metadata": {},
     "output_type": "display_data"
    }
   ],
   "source": [
    "plt.figure(figsize=(8, 5))\n",
    "plt.scatter(df['dis_centro'], df['precio'], alpha=0.5, color='blue')\n",
    "plt.xlabel('Distancia al centro (km)')\n",
    "plt.ylabel('Precio (€)')\n",
    "plt.title('Relación entre distancia al centro y precio')\n",
    "plt.grid(True)\n",
    "plt.show()"
   ]
  },
  {
   "cell_type": "markdown",
   "id": "8fb63ab3-4c5e-4c06-a9f3-0e605d6a9bec",
   "metadata": {},
   "source": [
    "Dadas las características de la ciudad de Valencia, podemos ver que la mayoría de los pisos se concentran entre 0 y 4 km.\n",
    "\n",
    "Una de las conclusiones a las que podemos llegar con este gráfico es que, a partir de los 5km de distancia al centro, la posibilidad de sacar mayor rendimiento al inmueble subiendo el precio es más complicado, ya que podemos ver cómo la dispersión en precio disminuye conforme nos alejamos del centro de la ciudad."
   ]
  },
  {
   "cell_type": "markdown",
   "id": "064428f6-e516-49c7-b874-80c8f90ea1f3",
   "metadata": {},
   "source": [
    "#### Añadimos la variable a df_propios"
   ]
  },
  {
   "cell_type": "markdown",
   "id": "60712324-1c8d-470a-a6db-2cd4c509df2d",
   "metadata": {},
   "source": [
    "Ahora vamos a añadir dis_centro al data frame df_propios"
   ]
  },
  {
   "cell_type": "code",
   "execution_count": 491,
   "id": "969240f2-74c6-42f8-9fff-732c4454e151",
   "metadata": {
    "scrolled": true
   },
   "outputs": [
    {
     "name": "stdout",
     "output_type": "stream",
     "text": [
      "(16, 16)\n"
     ]
    },
    {
     "data": {
      "text/html": [
       "<div>\n",
       "<style scoped>\n",
       "    .dataframe tbody tr th:only-of-type {\n",
       "        vertical-align: middle;\n",
       "    }\n",
       "\n",
       "    .dataframe tbody tr th {\n",
       "        vertical-align: top;\n",
       "    }\n",
       "\n",
       "    .dataframe thead th {\n",
       "        text-align: right;\n",
       "    }\n",
       "</style>\n",
       "<table border=\"1\" class=\"dataframe\">\n",
       "  <thead>\n",
       "    <tr style=\"text-align: right;\">\n",
       "      <th></th>\n",
       "      <th>id</th>\n",
       "      <th>host_id</th>\n",
       "      <th>distrito</th>\n",
       "      <th>barrio</th>\n",
       "      <th>latitude</th>\n",
       "      <th>longitude</th>\n",
       "      <th>tipo_alquiler</th>\n",
       "      <th>minimo_noches</th>\n",
       "      <th>total_inmuebles_host</th>\n",
       "      <th>disponibilidad_365</th>\n",
       "      <th>precio</th>\n",
       "      <th>accommodates</th>\n",
       "      <th>bedrooms</th>\n",
       "      <th>beds</th>\n",
       "      <th>tipo_fuente</th>\n",
       "      <th>dis_centro</th>\n",
       "    </tr>\n",
       "  </thead>\n",
       "  <tbody>\n",
       "    <tr>\n",
       "      <th>0</th>\n",
       "      <td>48154</td>\n",
       "      <td>219476</td>\n",
       "      <td>LA SAIDIA</td>\n",
       "      <td>MORVEDRE</td>\n",
       "      <td>39.48375</td>\n",
       "      <td>-0.37502</td>\n",
       "      <td>Entire home/apt</td>\n",
       "      <td>3</td>\n",
       "      <td>4</td>\n",
       "      <td>150</td>\n",
       "      <td>117.50</td>\n",
       "      <td>4</td>\n",
       "      <td>2.0</td>\n",
       "      <td>2.0</td>\n",
       "      <td>Mercado</td>\n",
       "      <td>1.555892</td>\n",
       "    </tr>\n",
       "    <tr>\n",
       "      <th>3</th>\n",
       "      <td>165971</td>\n",
       "      <td>791187</td>\n",
       "      <td>EXTRAMURS</td>\n",
       "      <td>LA ROQUETA</td>\n",
       "      <td>39.46790</td>\n",
       "      <td>-0.38206</td>\n",
       "      <td>Entire home/apt</td>\n",
       "      <td>5</td>\n",
       "      <td>7</td>\n",
       "      <td>29</td>\n",
       "      <td>145.25</td>\n",
       "      <td>4</td>\n",
       "      <td>1.0</td>\n",
       "      <td>1.0</td>\n",
       "      <td>Mercado</td>\n",
       "      <td>0.532783</td>\n",
       "    </tr>\n",
       "    <tr>\n",
       "      <th>4</th>\n",
       "      <td>182221</td>\n",
       "      <td>1315567</td>\n",
       "      <td>CAMINS AL GRAU</td>\n",
       "      <td>AIORA</td>\n",
       "      <td>39.46343</td>\n",
       "      <td>-0.34325</td>\n",
       "      <td>Entire home/apt</td>\n",
       "      <td>3</td>\n",
       "      <td>1</td>\n",
       "      <td>176</td>\n",
       "      <td>745.00</td>\n",
       "      <td>5</td>\n",
       "      <td>2.0</td>\n",
       "      <td>5.0</td>\n",
       "      <td>Mercado</td>\n",
       "      <td>2.930317</td>\n",
       "    </tr>\n",
       "  </tbody>\n",
       "</table>\n",
       "</div>"
      ],
      "text/plain": [
       "       id  host_id        distrito      barrio  latitude  longitude  \\\n",
       "0   48154   219476       LA SAIDIA    MORVEDRE  39.48375   -0.37502   \n",
       "3  165971   791187       EXTRAMURS  LA ROQUETA  39.46790   -0.38206   \n",
       "4  182221  1315567  CAMINS AL GRAU       AIORA  39.46343   -0.34325   \n",
       "\n",
       "     tipo_alquiler  minimo_noches  total_inmuebles_host  disponibilidad_365  \\\n",
       "0  Entire home/apt              3                     4                 150   \n",
       "3  Entire home/apt              5                     7                  29   \n",
       "4  Entire home/apt              3                     1                 176   \n",
       "\n",
       "   precio  accommodates  bedrooms  beds tipo_fuente  dis_centro  \n",
       "0  117.50             4       2.0   2.0     Mercado    1.555892  \n",
       "3  145.25             4       1.0   1.0     Mercado    0.532783  \n",
       "4  745.00             5       2.0   5.0     Mercado    2.930317  "
      ]
     },
     "execution_count": 491,
     "metadata": {},
     "output_type": "execute_result"
    }
   ],
   "source": [
    "lat1 = 39.4698\n",
    "lon1 = -0.376364\n",
    "\n",
    "df_cliente['dis_centro'] = df_cliente.apply(lambda registro: haversine(lat1,lon1,registro.latitude,registro.longitude),axis = 1)\n",
    "print(df_cliente.shape)\n",
    "df.head(3)"
   ]
  },
  {
   "cell_type": "markdown",
   "id": "92037dc4-20c7-4f82-8cfb-3b195787885e",
   "metadata": {},
   "source": [
    "### Variable precio_persona"
   ]
  },
  {
   "cell_type": "markdown",
   "id": "4262daa2-8c0a-4c17-953c-4ec36c131b99",
   "metadata": {},
   "source": [
    "Otra variable que nos puede ayudar a nuestro análisis es el precio por persona de cada inmueble"
   ]
  },
  {
   "cell_type": "code",
   "execution_count": 492,
   "id": "38cad1df-0e96-4943-a6b2-b1df8eeaadd4",
   "metadata": {},
   "outputs": [],
   "source": [
    "df['precio_persona'] = df['precio']/df['accommodates']"
   ]
  },
  {
   "cell_type": "code",
   "execution_count": 493,
   "id": "7e1b3e43-3f3a-49c7-b4cd-71c0fddb8602",
   "metadata": {},
   "outputs": [
    {
     "data": {
      "text/html": [
       "<div>\n",
       "<style scoped>\n",
       "    .dataframe tbody tr th:only-of-type {\n",
       "        vertical-align: middle;\n",
       "    }\n",
       "\n",
       "    .dataframe tbody tr th {\n",
       "        vertical-align: top;\n",
       "    }\n",
       "\n",
       "    .dataframe thead th {\n",
       "        text-align: right;\n",
       "    }\n",
       "</style>\n",
       "<table border=\"1\" class=\"dataframe\">\n",
       "  <thead>\n",
       "    <tr style=\"text-align: right;\">\n",
       "      <th></th>\n",
       "      <th>id</th>\n",
       "      <th>host_id</th>\n",
       "      <th>distrito</th>\n",
       "      <th>barrio</th>\n",
       "      <th>latitude</th>\n",
       "      <th>longitude</th>\n",
       "      <th>tipo_alquiler</th>\n",
       "      <th>minimo_noches</th>\n",
       "      <th>total_inmuebles_host</th>\n",
       "      <th>disponibilidad_365</th>\n",
       "      <th>precio</th>\n",
       "      <th>accommodates</th>\n",
       "      <th>bedrooms</th>\n",
       "      <th>beds</th>\n",
       "      <th>tipo_fuente</th>\n",
       "      <th>dis_centro</th>\n",
       "      <th>precio_persona</th>\n",
       "    </tr>\n",
       "  </thead>\n",
       "  <tbody>\n",
       "    <tr>\n",
       "      <th>0</th>\n",
       "      <td>48154</td>\n",
       "      <td>219476</td>\n",
       "      <td>LA SAIDIA</td>\n",
       "      <td>MORVEDRE</td>\n",
       "      <td>39.48375</td>\n",
       "      <td>-0.37502</td>\n",
       "      <td>Entire home/apt</td>\n",
       "      <td>3</td>\n",
       "      <td>4</td>\n",
       "      <td>150</td>\n",
       "      <td>117.50</td>\n",
       "      <td>4</td>\n",
       "      <td>2.0</td>\n",
       "      <td>2.0</td>\n",
       "      <td>Mercado</td>\n",
       "      <td>1.555892</td>\n",
       "      <td>29.3750</td>\n",
       "    </tr>\n",
       "    <tr>\n",
       "      <th>3</th>\n",
       "      <td>165971</td>\n",
       "      <td>791187</td>\n",
       "      <td>EXTRAMURS</td>\n",
       "      <td>LA ROQUETA</td>\n",
       "      <td>39.46790</td>\n",
       "      <td>-0.38206</td>\n",
       "      <td>Entire home/apt</td>\n",
       "      <td>5</td>\n",
       "      <td>7</td>\n",
       "      <td>29</td>\n",
       "      <td>145.25</td>\n",
       "      <td>4</td>\n",
       "      <td>1.0</td>\n",
       "      <td>1.0</td>\n",
       "      <td>Mercado</td>\n",
       "      <td>0.532783</td>\n",
       "      <td>36.3125</td>\n",
       "    </tr>\n",
       "    <tr>\n",
       "      <th>4</th>\n",
       "      <td>182221</td>\n",
       "      <td>1315567</td>\n",
       "      <td>CAMINS AL GRAU</td>\n",
       "      <td>AIORA</td>\n",
       "      <td>39.46343</td>\n",
       "      <td>-0.34325</td>\n",
       "      <td>Entire home/apt</td>\n",
       "      <td>3</td>\n",
       "      <td>1</td>\n",
       "      <td>176</td>\n",
       "      <td>745.00</td>\n",
       "      <td>5</td>\n",
       "      <td>2.0</td>\n",
       "      <td>5.0</td>\n",
       "      <td>Mercado</td>\n",
       "      <td>2.930317</td>\n",
       "      <td>149.0000</td>\n",
       "    </tr>\n",
       "  </tbody>\n",
       "</table>\n",
       "</div>"
      ],
      "text/plain": [
       "       id  host_id        distrito      barrio  latitude  longitude  \\\n",
       "0   48154   219476       LA SAIDIA    MORVEDRE  39.48375   -0.37502   \n",
       "3  165971   791187       EXTRAMURS  LA ROQUETA  39.46790   -0.38206   \n",
       "4  182221  1315567  CAMINS AL GRAU       AIORA  39.46343   -0.34325   \n",
       "\n",
       "     tipo_alquiler  minimo_noches  total_inmuebles_host  disponibilidad_365  \\\n",
       "0  Entire home/apt              3                     4                 150   \n",
       "3  Entire home/apt              5                     7                  29   \n",
       "4  Entire home/apt              3                     1                 176   \n",
       "\n",
       "   precio  accommodates  bedrooms  beds tipo_fuente  dis_centro  \\\n",
       "0  117.50             4       2.0   2.0     Mercado    1.555892   \n",
       "3  145.25             4       1.0   1.0     Mercado    0.532783   \n",
       "4  745.00             5       2.0   5.0     Mercado    2.930317   \n",
       "\n",
       "   precio_persona  \n",
       "0         29.3750  \n",
       "3         36.3125  \n",
       "4        149.0000  "
      ]
     },
     "execution_count": 493,
     "metadata": {},
     "output_type": "execute_result"
    }
   ],
   "source": [
    "df.head(3)"
   ]
  },
  {
   "cell_type": "markdown",
   "id": "2edc1055-2881-4515-bbe9-6f94996cd0cf",
   "metadata": {},
   "source": [
    "## KPIs"
   ]
  },
  {
   "cell_type": "markdown",
   "id": "ec31237a-a438-42c8-93d4-7d880a2b3d33",
   "metadata": {},
   "source": [
    "En este punto creamos las variables de análisis, es decir, las que habíamos indentificado como KPIs que usaremos para determinar si los precios de los inmuebles propios se podrían ajustar teniendo en cuenta los de la competencia con características similares."
   ]
  },
  {
   "cell_type": "markdown",
   "id": "535c8849-9f59-43cf-8930-4b91d7e8d5fb",
   "metadata": {},
   "source": [
    "Para ello vamos a realizar lo siguiente:\n",
    "- Primero realizaremos una segmentación de la variable dis_centro para luego realizar una comparación de precio de los inmuebles según esta variable\n",
    "- En segundo lugar nos centraremos en la variable accommodates y sacaremos la diferencia de precio de los inmuebles según este parámetro\n",
    "- Por último compararemos los emprecios de nuestros inmuebles con los inmuebles del mercado que combinen las dos variables anteriores"
   ]
  },
  {
   "cell_type": "markdown",
   "id": "f087eec8-5de2-465c-a86c-acea1ca10c0b",
   "metadata": {},
   "source": [
    "### KPI - Diferencia precio según dis_centro"
   ]
  },
  {
   "cell_type": "markdown",
   "id": "7f87ede6-a039-419b-804b-c5e7d39cd163",
   "metadata": {},
   "source": [
    "Antes de empezar la segmentación de la variable dis_centro, creemos que será útil ver una representación gráfica de los inmuebles propios (en rojo) con respecto a la competencia (azul), según su precio y su distancia al centro"
   ]
  },
  {
   "cell_type": "code",
   "execution_count": 494,
   "id": "c0d1d5b8-8c58-4789-9dde-b9a0c805f46e",
   "metadata": {},
   "outputs": [
    {
     "data": {
      "image/png": "[encoded data removed]",
      "text/plain": [
       "<Figure size 800x500 with 1 Axes>"
      ]
     },
     "metadata": {},
     "output_type": "display_data"
    }
   ],
   "source": [
    "plt.figure(figsize=(8, 5))\n",
    "\n",
    "sns.scatterplot(\n",
    "    data=df,\n",
    "    x='dis_centro',\n",
    "    y='precio',\n",
    "    color='skyblue',\n",
    "    alpha=0.5,\n",
    "    label='Competencia'\n",
    ")\n",
    "\n",
    "sns.scatterplot(\n",
    "    data=df_cliente,\n",
    "    x='dis_centro',\n",
    "    y='precio',\n",
    "    color='lightcoral',\n",
    "    alpha=1,\n",
    "    label='Cliente'\n",
    ")\n",
    "\n",
    "plt.title('Precio por noche vs Distancia al centro (Cliente vs Competencia)')\n",
    "plt.xlabel('Distancia al centro (km)')\n",
    "plt.ylabel('Precio por noche (€)')\n",
    "plt.legend(title='Host')\n",
    "plt.tight_layout()\n",
    "plt.show()"
   ]
  },
  {
   "cell_type": "markdown",
   "id": "e50366c8-d55a-42af-a798-5b6e08f78121",
   "metadata": {},
   "source": [
    "Observando el gráfico anterior podríamos sacar alguna de las primeras conclusiones, y es que, todo apunta, a que los precios de los inmuebles propios se encuentra en la parte baja del rango de dispersión del precio/noche.\n",
    "\n",
    "Vamos ahora a determinar la cuantía en euros de esa diferencia."
   ]
  },
  {
   "cell_type": "markdown",
   "id": "2bcf7a41-28b8-402f-b511-f6de38a547d6",
   "metadata": {},
   "source": [
    "Lo primero será realizar una segmentación de los inmuebles por su distancia en km al centro"
   ]
  },
  {
   "cell_type": "code",
   "execution_count": 495,
   "id": "0c11d09e-9235-4e1d-8340-68bf117613b5",
   "metadata": {},
   "outputs": [],
   "source": [
    "bins = [0, 2, 4, float('inf')]\n",
    "etiquetas = ['0-2km', '2-4km', '>4km']\n",
    "\n",
    "df['segmento_distancia'] = pd.cut(df['dis_centro'], bins=bins, labels=etiquetas, right=False)\n",
    "df_cliente['segmento_distancia'] = pd.cut(df_cliente['dis_centro'], bins=bins, labels=etiquetas, right=False)"
   ]
  },
  {
   "cell_type": "markdown",
   "id": "b067482f-37bf-492c-82c1-9a91841d71a2",
   "metadata": {},
   "source": [
    "Una vez realizada la segmentación vemos el número de inmuebles que tenemos en cada uno"
   ]
  },
  {
   "cell_type": "code",
   "execution_count": 496,
   "id": "4487d45c-2a29-4af4-897d-d41325cb9e8f",
   "metadata": {},
   "outputs": [
    {
     "name": "stdout",
     "output_type": "stream",
     "text": [
      "Competencia: df\n"
     ]
    },
    {
     "data": {
      "text/plain": [
       "segmento_distancia\n",
       "0-2km    2922\n",
       "2-4km    1144\n",
       ">4km       32\n",
       "Name: count, dtype: int64"
      ]
     },
     "metadata": {},
     "output_type": "display_data"
    },
    {
     "name": "stdout",
     "output_type": "stream",
     "text": [
      "\n",
      "Cliente: df_cliente\n"
     ]
    },
    {
     "data": {
      "text/plain": [
       "segmento_distancia\n",
       "0-2km     0\n",
       "2-4km    16\n",
       ">4km      0\n",
       "Name: count, dtype: int64"
      ]
     },
     "metadata": {},
     "output_type": "display_data"
    }
   ],
   "source": [
    "print(\"Competencia: df\")\n",
    "display(df['segmento_distancia'].value_counts().sort_index())\n",
    "\n",
    "print(\"\\nCliente: df_cliente\")\n",
    "display(df_cliente['segmento_distancia'].value_counts().sort_index())"
   ]
  },
  {
   "cell_type": "markdown",
   "id": "73bc6b49-1627-4f4b-8862-5fea99df5502",
   "metadata": {},
   "source": [
    "#### KPI_km"
   ]
  },
  {
   "cell_type": "markdown",
   "id": "73a72f19-895e-44ae-a93a-aaae26621456",
   "metadata": {},
   "source": [
    "Observamos que los inmuebles propios solo se encuentran en la segmentación de 2-4km por lo que vamos a sacar la relación de inmuebles de df que se encuentran en ese rango"
   ]
  },
  {
   "cell_type": "code",
   "execution_count": 497,
   "id": "778342ef-992f-44c2-92c2-a8fca7634cbf",
   "metadata": {},
   "outputs": [
    {
     "name": "stdout",
     "output_type": "stream",
     "text": [
      "(1144, 18)\n"
     ]
    },
    {
     "data": {
      "text/html": [
       "<div>\n",
       "<style scoped>\n",
       "    .dataframe tbody tr th:only-of-type {\n",
       "        vertical-align: middle;\n",
       "    }\n",
       "\n",
       "    .dataframe tbody tr th {\n",
       "        vertical-align: top;\n",
       "    }\n",
       "\n",
       "    .dataframe thead th {\n",
       "        text-align: right;\n",
       "    }\n",
       "</style>\n",
       "<table border=\"1\" class=\"dataframe\">\n",
       "  <thead>\n",
       "    <tr style=\"text-align: right;\">\n",
       "      <th></th>\n",
       "      <th>id</th>\n",
       "      <th>host_id</th>\n",
       "      <th>distrito</th>\n",
       "      <th>barrio</th>\n",
       "      <th>latitude</th>\n",
       "      <th>longitude</th>\n",
       "      <th>tipo_alquiler</th>\n",
       "      <th>minimo_noches</th>\n",
       "      <th>total_inmuebles_host</th>\n",
       "      <th>disponibilidad_365</th>\n",
       "      <th>precio</th>\n",
       "      <th>accommodates</th>\n",
       "      <th>bedrooms</th>\n",
       "      <th>beds</th>\n",
       "      <th>tipo_fuente</th>\n",
       "      <th>dis_centro</th>\n",
       "      <th>precio_persona</th>\n",
       "      <th>segmento_distancia</th>\n",
       "    </tr>\n",
       "  </thead>\n",
       "  <tbody>\n",
       "    <tr>\n",
       "      <th>0</th>\n",
       "      <td>48154</td>\n",
       "      <td>219476</td>\n",
       "      <td>LA SAIDIA</td>\n",
       "      <td>MORVEDRE</td>\n",
       "      <td>39.48375</td>\n",
       "      <td>-0.37502</td>\n",
       "      <td>Entire home/apt</td>\n",
       "      <td>3</td>\n",
       "      <td>4</td>\n",
       "      <td>150</td>\n",
       "      <td>117.50</td>\n",
       "      <td>4</td>\n",
       "      <td>2.0</td>\n",
       "      <td>2.0</td>\n",
       "      <td>Mercado</td>\n",
       "      <td>1.555892</td>\n",
       "      <td>29.3750</td>\n",
       "      <td>0-2km</td>\n",
       "    </tr>\n",
       "    <tr>\n",
       "      <th>3</th>\n",
       "      <td>165971</td>\n",
       "      <td>791187</td>\n",
       "      <td>EXTRAMURS</td>\n",
       "      <td>LA ROQUETA</td>\n",
       "      <td>39.46790</td>\n",
       "      <td>-0.38206</td>\n",
       "      <td>Entire home/apt</td>\n",
       "      <td>5</td>\n",
       "      <td>7</td>\n",
       "      <td>29</td>\n",
       "      <td>145.25</td>\n",
       "      <td>4</td>\n",
       "      <td>1.0</td>\n",
       "      <td>1.0</td>\n",
       "      <td>Mercado</td>\n",
       "      <td>0.532783</td>\n",
       "      <td>36.3125</td>\n",
       "      <td>0-2km</td>\n",
       "    </tr>\n",
       "    <tr>\n",
       "      <th>4</th>\n",
       "      <td>182221</td>\n",
       "      <td>1315567</td>\n",
       "      <td>CAMINS AL GRAU</td>\n",
       "      <td>AIORA</td>\n",
       "      <td>39.46343</td>\n",
       "      <td>-0.34325</td>\n",
       "      <td>Entire home/apt</td>\n",
       "      <td>3</td>\n",
       "      <td>1</td>\n",
       "      <td>176</td>\n",
       "      <td>745.00</td>\n",
       "      <td>5</td>\n",
       "      <td>2.0</td>\n",
       "      <td>5.0</td>\n",
       "      <td>Mercado</td>\n",
       "      <td>2.930317</td>\n",
       "      <td>149.0000</td>\n",
       "      <td>2-4km</td>\n",
       "    </tr>\n",
       "  </tbody>\n",
       "</table>\n",
       "</div>"
      ],
      "text/plain": [
       "       id  host_id        distrito      barrio  latitude  longitude  \\\n",
       "0   48154   219476       LA SAIDIA    MORVEDRE  39.48375   -0.37502   \n",
       "3  165971   791187       EXTRAMURS  LA ROQUETA  39.46790   -0.38206   \n",
       "4  182221  1315567  CAMINS AL GRAU       AIORA  39.46343   -0.34325   \n",
       "\n",
       "     tipo_alquiler  minimo_noches  total_inmuebles_host  disponibilidad_365  \\\n",
       "0  Entire home/apt              3                     4                 150   \n",
       "3  Entire home/apt              5                     7                  29   \n",
       "4  Entire home/apt              3                     1                 176   \n",
       "\n",
       "   precio  accommodates  bedrooms  beds tipo_fuente  dis_centro  \\\n",
       "0  117.50             4       2.0   2.0     Mercado    1.555892   \n",
       "3  145.25             4       1.0   1.0     Mercado    0.532783   \n",
       "4  745.00             5       2.0   5.0     Mercado    2.930317   \n",
       "\n",
       "   precio_persona segmento_distancia  \n",
       "0         29.3750              0-2km  \n",
       "3         36.3125              0-2km  \n",
       "4        149.0000              2-4km  "
      ]
     },
     "execution_count": 497,
     "metadata": {},
     "output_type": "execute_result"
    }
   ],
   "source": [
    "df_filtrado_km = df[df['segmento_distancia'] == '2-4km']\n",
    "print(df_filtrado_km.shape)\n",
    "df.head(3)"
   ]
  },
  {
   "cell_type": "code",
   "execution_count": 498,
   "id": "6fe464c5-0c7a-438b-b585-023e35f4705a",
   "metadata": {},
   "outputs": [
    {
     "name": "stdout",
     "output_type": "stream",
     "text": [
      "Competencia:\n"
     ]
    },
    {
     "data": {
      "text/html": [
       "<div>\n",
       "<style scoped>\n",
       "    .dataframe tbody tr th:only-of-type {\n",
       "        vertical-align: middle;\n",
       "    }\n",
       "\n",
       "    .dataframe tbody tr th {\n",
       "        vertical-align: top;\n",
       "    }\n",
       "\n",
       "    .dataframe thead th {\n",
       "        text-align: right;\n",
       "    }\n",
       "</style>\n",
       "<table border=\"1\" class=\"dataframe\">\n",
       "  <thead>\n",
       "    <tr style=\"text-align: right;\">\n",
       "      <th></th>\n",
       "      <th>mean</th>\n",
       "      <th>count</th>\n",
       "    </tr>\n",
       "    <tr>\n",
       "      <th>segmento_distancia</th>\n",
       "      <th></th>\n",
       "      <th></th>\n",
       "    </tr>\n",
       "  </thead>\n",
       "  <tbody>\n",
       "    <tr>\n",
       "      <th>2-4km</th>\n",
       "      <td>139.108683</td>\n",
       "      <td>1144</td>\n",
       "    </tr>\n",
       "  </tbody>\n",
       "</table>\n",
       "</div>"
      ],
      "text/plain": [
       "                          mean  count\n",
       "segmento_distancia                   \n",
       "2-4km               139.108683   1144"
      ]
     },
     "metadata": {},
     "output_type": "display_data"
    },
    {
     "name": "stdout",
     "output_type": "stream",
     "text": [
      "Cliente:\n"
     ]
    },
    {
     "data": {
      "text/html": [
       "<div>\n",
       "<style scoped>\n",
       "    .dataframe tbody tr th:only-of-type {\n",
       "        vertical-align: middle;\n",
       "    }\n",
       "\n",
       "    .dataframe tbody tr th {\n",
       "        vertical-align: top;\n",
       "    }\n",
       "\n",
       "    .dataframe thead th {\n",
       "        text-align: right;\n",
       "    }\n",
       "</style>\n",
       "<table border=\"1\" class=\"dataframe\">\n",
       "  <thead>\n",
       "    <tr style=\"text-align: right;\">\n",
       "      <th></th>\n",
       "      <th>mean</th>\n",
       "      <th>count</th>\n",
       "    </tr>\n",
       "    <tr>\n",
       "      <th>segmento_distancia</th>\n",
       "      <th></th>\n",
       "      <th></th>\n",
       "    </tr>\n",
       "  </thead>\n",
       "  <tbody>\n",
       "    <tr>\n",
       "      <th>2-4km</th>\n",
       "      <td>72.614583</td>\n",
       "      <td>16</td>\n",
       "    </tr>\n",
       "  </tbody>\n",
       "</table>\n",
       "</div>"
      ],
      "text/plain": [
       "                         mean  count\n",
       "segmento_distancia                  \n",
       "2-4km               72.614583     16"
      ]
     },
     "execution_count": 498,
     "metadata": {},
     "output_type": "execute_result"
    }
   ],
   "source": [
    "print(\"Competencia:\")\n",
    "display(df_filtrado_km.groupby('segmento_distancia', observed=True)['precio'].agg(['mean', 'count']))\n",
    "print(\"Cliente:\")\n",
    "df_cliente.groupby('segmento_distancia',  observed=True)['precio'].agg(['mean', 'count'])"
   ]
  },
  {
   "cell_type": "markdown",
   "id": "d54dba71-c20e-4deb-a176-ecfd3ec7402a",
   "metadata": {},
   "source": [
    "Podemos observar que la diferencia del precio medio es bastante notoria, ya que el del cliente es de 72,61€/noche y el del la competencia es de 139,10€/noche, lo que representa una diferencia de más de un 90% entre ambos."
   ]
  },
  {
   "cell_type": "markdown",
   "id": "8f71aee6-cd12-438e-a94a-ecb28d17fbaa",
   "metadata": {},
   "source": [
    "Vamos a sacar el KPI que nos indique exáctamente cuál es la diferencia de precio entre los inmuebles de la competencia y los propios que se encuentra en el mismo segmento de distancia al centro"
   ]
  },
  {
   "cell_type": "code",
   "execution_count": 499,
   "id": "cbd729be-4df1-4192-9f62-40a2e907ef5e",
   "metadata": {},
   "outputs": [
    {
     "name": "stdout",
     "output_type": "stream",
     "text": [
      "El KPI diferencia precio según los km al centro es de 66.49 euros\n"
     ]
    }
   ],
   "source": [
    "pmedio_competencia_km = df_filtrado_km.groupby('segmento_distancia', observed=True )['precio'].mean()\n",
    "pmedio_cliente_km = df_cliente.groupby('segmento_distancia', observed = True)['precio'].mean()\n",
    "kpi_km = pmedio_competencia_km.iloc[0] - pmedio_cliente_km.iloc[0]\n",
    "print(f'El KPI diferencia precio según los km al centro es de {kpi_km:.2f} euros')"
   ]
  },
  {
   "cell_type": "code",
   "execution_count": 500,
   "id": "777475da-4345-4d55-b503-167d9e634cff",
   "metadata": {},
   "outputs": [
    {
     "data": {
      "image/png": "[encoded data removed]",
      "text/plain": [
       "<Figure size 640x480 with 1 Axes>"
      ]
     },
     "metadata": {},
     "output_type": "display_data"
    }
   ],
   "source": [
    "import matplotlib.pyplot as plt\n",
    "\n",
    "valores_km = [pmedio_competencia_km.iloc[0], pmedio_cliente_km.iloc[0]]\n",
    "etiquetas = ['Competencia', 'Cliente']\n",
    "\n",
    "plt.bar(etiquetas, valores_km, color=['red', 'steelblue'])\n",
    "plt.title(f'Diferencia de precios (KPI: {kpi_km:.2f}€)')\n",
    "plt.ylabel('Precio medio (€)')\n",
    "plt.ylim(0, max(valores_km) * 1.2)\n",
    "\n",
    "# Opcional: anotar los valores en las barras\n",
    "for i, v in enumerate(valores_km):\n",
    "    plt.text(i, v + 1, f'{v:.2f}€', ha='center')\n",
    "\n",
    "plt.show()"
   ]
  },
  {
   "cell_type": "markdown",
   "id": "29932466-5a65-4ef5-92bb-20537fdd52ef",
   "metadata": {},
   "source": [
    "### KPI - Diferencia precio según accommodates"
   ]
  },
  {
   "cell_type": "markdown",
   "id": "4cf3c803-6feb-46e5-88e7-89d0035f3e24",
   "metadata": {},
   "source": [
    "La variable accommodates es una de las variables que consideramos más importantes en nuestro análisis, ya que indica el número de personas máxima que se puede alojar en el inmueble alquilado.\n",
    "\n",
    "En primer lugar vamos a ver qué número de accommodates tienen los inmuebles propios"
   ]
  },
  {
   "cell_type": "code",
   "execution_count": 501,
   "id": "5b4a748f-8c19-4c5a-81a5-e32f59798bff",
   "metadata": {},
   "outputs": [
    {
     "data": {
      "text/plain": [
       "accommodates\n",
       "2     1\n",
       "3    15\n",
       "Name: accommodates, dtype: int64"
      ]
     },
     "execution_count": 501,
     "metadata": {},
     "output_type": "execute_result"
    }
   ],
   "source": [
    "df_cliente.groupby('accommodates')['accommodates'].count()"
   ]
  },
  {
   "cell_type": "markdown",
   "id": "3ceb0748-8d21-4ebd-907e-6fa8f1e6ef6e",
   "metadata": {},
   "source": [
    "Vemos que de los 16 inmuebles propios, 15 tienen un accommodates de 3, por lo que vamos a centrar el análisis en este número de accommodates."
   ]
  },
  {
   "cell_type": "markdown",
   "id": "dee37298-7699-4663-a166-58db1f1461f7",
   "metadata": {},
   "source": [
    "#### KPI_acc"
   ]
  },
  {
   "cell_type": "markdown",
   "id": "332db054-511c-4901-93ba-b18b6857488b",
   "metadata": {},
   "source": [
    "Filtramos el df principal para solo quedarnos con los inmuebles que tengan 3 accommodates y sacamos el precio medio."
   ]
  },
  {
   "cell_type": "code",
   "execution_count": 502,
   "id": "6576053a-ef03-4f17-8ce7-0b36c87f00ed",
   "metadata": {},
   "outputs": [
    {
     "name": "stdout",
     "output_type": "stream",
     "text": [
      "Competencia:\n"
     ]
    },
    {
     "data": {
      "text/html": [
       "<div>\n",
       "<style scoped>\n",
       "    .dataframe tbody tr th:only-of-type {\n",
       "        vertical-align: middle;\n",
       "    }\n",
       "\n",
       "    .dataframe tbody tr th {\n",
       "        vertical-align: top;\n",
       "    }\n",
       "\n",
       "    .dataframe thead th {\n",
       "        text-align: right;\n",
       "    }\n",
       "</style>\n",
       "<table border=\"1\" class=\"dataframe\">\n",
       "  <thead>\n",
       "    <tr style=\"text-align: right;\">\n",
       "      <th></th>\n",
       "      <th>mean</th>\n",
       "      <th>count</th>\n",
       "    </tr>\n",
       "    <tr>\n",
       "      <th>accommodates</th>\n",
       "      <th></th>\n",
       "      <th></th>\n",
       "    </tr>\n",
       "  </thead>\n",
       "  <tbody>\n",
       "    <tr>\n",
       "      <th>3</th>\n",
       "      <td>114.360766</td>\n",
       "      <td>483</td>\n",
       "    </tr>\n",
       "  </tbody>\n",
       "</table>\n",
       "</div>"
      ],
      "text/plain": [
       "                    mean  count\n",
       "accommodates                   \n",
       "3             114.360766    483"
      ]
     },
     "metadata": {},
     "output_type": "display_data"
    },
    {
     "name": "stdout",
     "output_type": "stream",
     "text": [
      "\n",
      "Cliente:\n"
     ]
    },
    {
     "data": {
      "text/html": [
       "<div>\n",
       "<style scoped>\n",
       "    .dataframe tbody tr th:only-of-type {\n",
       "        vertical-align: middle;\n",
       "    }\n",
       "\n",
       "    .dataframe tbody tr th {\n",
       "        vertical-align: top;\n",
       "    }\n",
       "\n",
       "    .dataframe thead th {\n",
       "        text-align: right;\n",
       "    }\n",
       "</style>\n",
       "<table border=\"1\" class=\"dataframe\">\n",
       "  <thead>\n",
       "    <tr style=\"text-align: right;\">\n",
       "      <th></th>\n",
       "      <th>mean</th>\n",
       "      <th>count</th>\n",
       "    </tr>\n",
       "    <tr>\n",
       "      <th>accommodates</th>\n",
       "      <th></th>\n",
       "      <th></th>\n",
       "    </tr>\n",
       "  </thead>\n",
       "  <tbody>\n",
       "    <tr>\n",
       "      <th>3</th>\n",
       "      <td>72.855556</td>\n",
       "      <td>15</td>\n",
       "    </tr>\n",
       "  </tbody>\n",
       "</table>\n",
       "</div>"
      ],
      "text/plain": [
       "                   mean  count\n",
       "accommodates                  \n",
       "3             72.855556     15"
      ]
     },
     "execution_count": 502,
     "metadata": {},
     "output_type": "execute_result"
    }
   ],
   "source": [
    "df_filtrado_acc = df[df['accommodates'] == 3]\n",
    "\n",
    "print('Competencia:')\n",
    "pmedio_competencia_acc = df_filtrado_acc.groupby('accommodates')['precio'].agg(['mean', 'count'])\n",
    "display(pmedio_competencia_acc)\n",
    "\n",
    "print('\\nCliente:')\n",
    "pmedio_cliente_acc = df_cliente[df_cliente['accommodates'] == 3].groupby('accommodates')['precio'].agg(['mean', 'count'])\n",
    "pmedio_cliente_acc"
   ]
  },
  {
   "cell_type": "code",
   "execution_count": 503,
   "id": "da6f3d61-3026-4324-8d3a-c98c2b1217fe",
   "metadata": {},
   "outputs": [
    {
     "name": "stdout",
     "output_type": "stream",
     "text": [
      "El KPI diferencia precio según los km al centro es de 41.51 euros\n"
     ]
    }
   ],
   "source": [
    "pmedio_competencia_acc = df_filtrado_acc.groupby('accommodates')['precio'].mean()\n",
    "pmedio_propios_acc = df_cliente[df_cliente['accommodates'] == 3].groupby('accommodates')['precio'].mean()\n",
    "kpi_acc = pmedio_competencia_acc.iloc[0] - pmedio_propios_acc.iloc[0]\n",
    "\n",
    "print(f'El KPI diferencia precio según los km al centro es de {kpi_acc:.2f} euros')"
   ]
  },
  {
   "cell_type": "code",
   "execution_count": 504,
   "id": "1ebd67d4-5f5e-49c8-9361-a53a1b20df23",
   "metadata": {},
   "outputs": [
    {
     "data": {
      "image/png": "[encoded data removed]",
      "text/plain": [
       "<Figure size 640x480 with 1 Axes>"
      ]
     },
     "metadata": {},
     "output_type": "display_data"
    }
   ],
   "source": [
    "valores_acc = [pmedio_competencia_acc.iloc[0], pmedio_propios_acc.iloc[0]]\n",
    "etiquetas = ['Competencia', 'Propios']\n",
    "\n",
    "plt.bar(etiquetas, valores_acc, color=['red', 'steelblue'])\n",
    "plt.title(f'Diferencia de precios (KPI: {kpi_acc:.2f}€)')\n",
    "plt.ylabel('Precio medio (€)')\n",
    "plt.ylim(0, max(valores_acc) * 1.2)\n",
    "\n",
    "for i, v in enumerate(valores_acc):\n",
    "    plt.text(i, v + 1, f'{v:.2f}€', ha='center')\n",
    "\n",
    "plt.show()\n"
   ]
  },
  {
   "cell_type": "markdown",
   "id": "75cfa2d3-4602-4dbe-92df-22c43f26d1e8",
   "metadata": {},
   "source": [
    "### KPI - Diferencia precio según dis_centro & accommodates"
   ]
  },
  {
   "cell_type": "markdown",
   "id": "dd4df1b7-f06a-44d0-8b8a-144ab19e19d4",
   "metadata": {},
   "source": [
    "Como hemos visto, los inmuebles propios se encuentran solo entre; los segmentos de distancia 2-3km y 3-4km; y con 2 o 3 accommodates.\n",
    "\n",
    "Filtramos entre estos segmentos para el df y así solo comparamos con los inmuebles que cumplen esos requisitos"
   ]
  },
  {
   "cell_type": "markdown",
   "id": "08be4805-cdbc-45bb-98a4-aa59b0178a88",
   "metadata": {},
   "source": [
    "#### KPI_km_acc"
   ]
  },
  {
   "cell_type": "code",
   "execution_count": 505,
   "id": "96e68f10-933c-4045-bbf0-9c33d53a2665",
   "metadata": {},
   "outputs": [
    {
     "data": {
      "text/html": [
       "<div>\n",
       "<style scoped>\n",
       "    .dataframe tbody tr th:only-of-type {\n",
       "        vertical-align: middle;\n",
       "    }\n",
       "\n",
       "    .dataframe tbody tr th {\n",
       "        vertical-align: top;\n",
       "    }\n",
       "\n",
       "    .dataframe thead th {\n",
       "        text-align: right;\n",
       "    }\n",
       "</style>\n",
       "<table border=\"1\" class=\"dataframe\">\n",
       "  <thead>\n",
       "    <tr style=\"text-align: right;\">\n",
       "      <th></th>\n",
       "      <th></th>\n",
       "      <th>mean</th>\n",
       "      <th>count</th>\n",
       "    </tr>\n",
       "    <tr>\n",
       "      <th>segmento_distancia</th>\n",
       "      <th>accommodates</th>\n",
       "      <th></th>\n",
       "      <th></th>\n",
       "    </tr>\n",
       "  </thead>\n",
       "  <tbody>\n",
       "    <tr>\n",
       "      <th>2-4km</th>\n",
       "      <th>3</th>\n",
       "      <td>118.129704</td>\n",
       "      <td>124</td>\n",
       "    </tr>\n",
       "  </tbody>\n",
       "</table>\n",
       "</div>"
      ],
      "text/plain": [
       "                                       mean  count\n",
       "segmento_distancia accommodates                   \n",
       "2-4km              3             118.129704    124"
      ]
     },
     "metadata": {},
     "output_type": "display_data"
    },
    {
     "data": {
      "text/html": [
       "<div>\n",
       "<style scoped>\n",
       "    .dataframe tbody tr th:only-of-type {\n",
       "        vertical-align: middle;\n",
       "    }\n",
       "\n",
       "    .dataframe tbody tr th {\n",
       "        vertical-align: top;\n",
       "    }\n",
       "\n",
       "    .dataframe thead th {\n",
       "        text-align: right;\n",
       "    }\n",
       "</style>\n",
       "<table border=\"1\" class=\"dataframe\">\n",
       "  <thead>\n",
       "    <tr style=\"text-align: right;\">\n",
       "      <th></th>\n",
       "      <th></th>\n",
       "      <th>mean</th>\n",
       "      <th>count</th>\n",
       "    </tr>\n",
       "    <tr>\n",
       "      <th>segmento_distancia</th>\n",
       "      <th>accommodates</th>\n",
       "      <th></th>\n",
       "      <th></th>\n",
       "    </tr>\n",
       "  </thead>\n",
       "  <tbody>\n",
       "    <tr>\n",
       "      <th>2-4km</th>\n",
       "      <th>3</th>\n",
       "      <td>72.855556</td>\n",
       "      <td>15</td>\n",
       "    </tr>\n",
       "  </tbody>\n",
       "</table>\n",
       "</div>"
      ],
      "text/plain": [
       "                                      mean  count\n",
       "segmento_distancia accommodates                  \n",
       "2-4km              3             72.855556     15"
      ]
     },
     "metadata": {},
     "output_type": "display_data"
    }
   ],
   "source": [
    "# Filtramos los accommodates de 3 y por el segmento 2-4km\n",
    "df_filtrado_acc_km = df[(df['accommodates'] == 3) & (df['segmento_distancia'] == '2-4km')]\n",
    "display(df_filtrado_acc_km.groupby(['segmento_distancia', 'accommodates'],observed=True)['precio'].agg(['mean','count']))\n",
    "display(df_cliente[df_cliente['accommodates'] == 3].groupby(['segmento_distancia', 'accommodates'],observed=True)['precio'].agg(['mean', 'count']))"
   ]
  },
  {
   "cell_type": "code",
   "execution_count": 506,
   "id": "5f355c93-e0c5-4450-8cb6-5e4a32bd0918",
   "metadata": {},
   "outputs": [
    {
     "name": "stdout",
     "output_type": "stream",
     "text": [
      "El KPI diferencia precio según los km al centro 2-4km y accommodates igual a 3 es de 36.76 euros\n"
     ]
    }
   ],
   "source": [
    "df_filtrado_acc_km = df[(df['accommodates'].isin([2,3])) & (df['segmento_distancia'] == '2-4km')]\n",
    "pmedio_competencia_acc_km = df_filtrado_acc_km.groupby(['segmento_distancia', 'accommodates'],observed=True)['precio'].mean()\n",
    "pmedio_cliente_acc_km = df_cliente.groupby(['segmento_distancia', 'accommodates'],observed=True)['precio'].mean()\n",
    "\n",
    "kpi_km_acc = pmedio_competencia_acc_km.iloc[0] - pmedio_cliente_acc_km.iloc[0]\n",
    "\n",
    "print(f'El KPI diferencia precio según los km al centro 2-4km y accommodates igual a 3 es de {kpi_km_acc:.2f} euros')"
   ]
  },
  {
   "cell_type": "markdown",
   "id": "ff661df2-4a67-44d7-8718-b6e8bb174203",
   "metadata": {},
   "source": [
    "## Juntamos df y df_cliente"
   ]
  },
  {
   "cell_type": "code",
   "execution_count": 507,
   "id": "d064a261-fefe-4b32-be8b-0cf8cf59b9ff",
   "metadata": {},
   "outputs": [],
   "source": [
    "df_total = pd.concat([df, df_cliente], ignore_index=True)"
   ]
  },
  {
   "cell_type": "code",
   "execution_count": 508,
   "id": "0d9526f9-b8b8-4ef2-a728-0a1bccbee180",
   "metadata": {},
   "outputs": [],
   "source": [
    "# Reordenamos las variables\n",
    "columnas_orden = [\n",
    "    \"id\", \"host_id\", \"distrito\", \"barrio\", \"tipo_alquiler\", \"precio\",\n",
    "    \"accommodates\", \"bedrooms\", \"beds\", \"minimo_noches\",\n",
    "    \"total_inmuebles_host\", \"disponibilidad_365\", \"dis_centro\",\n",
    "    \"tipo_fuente\", \"latitude\", \"longitude\"\n",
    "]"
   ]
  },
  {
   "cell_type": "code",
   "execution_count": 509,
   "id": "1daf6cd3-b2b3-4c1e-84bc-566b768eb51d",
   "metadata": {},
   "outputs": [],
   "source": [
    "df_total = df_total[[c for c in columnas_orden if c in df_total.columns]]"
   ]
  },
  {
   "cell_type": "code",
   "execution_count": 510,
   "id": "08fc005d-13bb-426a-807c-b74c9c596719",
   "metadata": {},
   "outputs": [
    {
     "name": "stdout",
     "output_type": "stream",
     "text": [
      "Shape final: (4114, 16)\n",
      "\n",
      "Tipos de datos:\n",
      "id                         int64\n",
      "host_id                    int64\n",
      "distrito                category\n",
      "barrio                  category\n",
      "tipo_alquiler           category\n",
      "precio                   float64\n",
      "accommodates               int64\n",
      "bedrooms                 float64\n",
      "beds                     float64\n",
      "minimo_noches              int64\n",
      "total_inmuebles_host       int64\n",
      "disponibilidad_365         int64\n",
      "dis_centro               float64\n",
      "tipo_fuente               object\n",
      "latitude                 float64\n",
      "longitude                float64\n",
      "dtype: object\n"
     ]
    }
   ],
   "source": [
    "print(\"Shape final:\", df_total.shape)\n",
    "print(\"\\nTipos de datos:\")\n",
    "print(df_total.dtypes)"
   ]
  },
  {
   "cell_type": "markdown",
   "id": "835e4e76-c002-4f7c-9450-dc875b1b8de6",
   "metadata": {},
   "source": [
    "## Guardamos Datamart final"
   ]
  },
  {
   "cell_type": "code",
   "execution_count": 511,
   "id": "070727a1-7390-4ea6-8436-c8b6ba8d916e",
   "metadata": {},
   "outputs": [],
   "source": [
    "# Como pickle\n",
    "df_total.to_pickle('../Datos/datamart_final.pickle')\n",
    "\n",
    "# Como csv para su posterior análisis fuera de Jupyter\n",
    "df_total.to_csv(\"../Datos/datamart_final.csv\",\n",
    "                index=False,\n",
    "                encoding=\"utf-8-sig\")"
   ]
  }
 ],
 "metadata": {
  "kernelspec": {
   "display_name": "Python 3 (ipykernel)",
   "language": "python",
   "name": "python3"
  },
  "language_info": {
   "codemirror_mode": {
    "name": "ipython",
    "version": 3
   },
   "file_extension": ".py",
   "mimetype": "text/x-python",
   "name": "python",
   "nbconvert_exporter": "python",
   "pygments_lexer": "ipython3",
   "version": "3.12.3"
  }
 },
 "nbformat": 4,
 "nbformat_minor": 5
}
