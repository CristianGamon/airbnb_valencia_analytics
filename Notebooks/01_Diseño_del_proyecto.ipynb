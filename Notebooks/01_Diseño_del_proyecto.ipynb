{
 "cells": [
  {
   "cell_type": "markdown",
   "id": "5430f238-9a71-4c69-b16b-55b7b66cd375",
   "metadata": {},
   "source": [
    "# Diseño del Proyecto"
   ]
  },
  {
   "cell_type": "markdown",
   "id": "87ee550c-aba7-41f7-9897-a51fbd7d7a55",
   "metadata": {},
   "source": [
    "## Contexto y planteamiento del caso\n",
    "\n",
    "Este proyecto se desarrolla como un **caso ficticio** en el que una empresa del sector de alquiler turístico en Valencia solicita un análisis completo del **mercado de corta estancia** en la ciudad.  \n",
    "El objetivo principal de la empresa es **conocer la situación actual del mercado de alquiler turístico** y **entender cómo se posicionan sus propiedades frente a la competencia**.\n",
    "\n",
    "El análisis se basa en datos públicos disponibles en la web *www.insideairbnb.com*, que recoge información sobre los alojamientos en la ciudad (ubicación, precios, tipo de inmueble, capacidad, valoraciones, etc.)."
   ]
  },
  {
   "cell_type": "markdown",
   "id": "aa72ae1b-258c-4461-995f-6268f60354ff",
   "metadata": {},
   "source": [
    "## Objetivo general\n",
    "\n",
    "> **Analizar el mercado de alquiler turístico de la ciudad de Valencia y evaluar el posicionamiento de los inmuebles del cliente frente a la del mercado.**"
   ]
  },
  {
   "cell_type": "markdown",
   "id": "3719a3e7-330b-4786-b6db-38486f035026",
   "metadata": {},
   "source": [
    "## Factores clave del análisis\n",
    "\n",
    "Para alcanzar este objetivo, se tendrán en cuenta los siguientes factores principales:\n",
    "\n",
    "- **Localización:** la posición geográfica de los alojamientos dentro de la ciudad y su **distancia al centro**.  \n",
    "- **Tipo de alojamiento:** apartamento completo, habitación privada o compartida.  \n",
    "- **Capacidad del alojamiento:** número de huéspedes permitidos (*accommodates*).  \n",
    "- **Precio por noche:** valor de referencia para la comparación de mercado.   "
   ]
  },
  {
   "cell_type": "markdown",
   "id": "cdce22ca-4f32-417f-ad9b-5e763425f528",
   "metadata": {},
   "source": [
    "## KPIs definidos\n",
    "\n",
    "A lo largo del proyecto se calcularán y analizarán varios **indicadores clave (KPIs)** que permitirán medir la posición relativa de los inmuebles de la empresa frente al mercado:\n",
    "\n",
    "1. **KPI 1 – Precio medio según distancia al centro**  \n",
    "   Evalúa cómo varía el precio medio por noche en función de la distancia al centro de Valencia.  \n",
    "   - *Objetivo:* determinar si existe una relación entre la localización y el precio.\n",
    "\n",
    "2. **KPI 2 – Precio medio por capacidad (accommodates)**  \n",
    "   Analiza la relación entre el número de huéspedes que puede alojar un inmueble y su precio medio por noche.  \n",
    "   - *Objetivo:* entender cómo la capacidad influye en el valor de mercado.\n",
    "\n",
    "3. **KPI 3 – Diferencia de precio respecto a la competencia**  \n",
    "   Compara el precio medio de los inmuebles de la empresa con el precio medio de la competencia, ajustando por características similares (tipo, capacidad, ubicación, etc.).  \n",
    "   - *Objetivo:* identificar si la empresa está **por encima o por debajo del precio de mercado**."
   ]
  },
  {
   "cell_type": "markdown",
   "id": "28c9d200-657f-44a2-8c33-953d481078c6",
   "metadata": {},
   "source": [
    "## Preguntas de negocio\n",
    "\n",
    "El proyecto busca responder a una serie de preguntas estratégicas que ayuden a la empresa a **tomar decisiones informadas** sobre su política de precios y posicionamiento en el mercado:\n",
    "\n",
    "1. ¿Los precios actuales de nuestros inmuebles están por debajo del precio medio del mercado?  \n",
    "2. ¿Podemos incrementar los precios sin perder competitividad?  \n",
    "3. ¿Qué distritos o zonas presentan mayor potencial de rentabilidad?  \n",
    "4. ¿Qué factores (ubicación, capacidad, valoración) influyen más en el precio del alojamiento?  \n",
    "5. ¿Existen oportunidades para optimizar la estrategia de precios o segmentar la oferta?  \n",
    "6. ¿Cómo se comportan nuestros inmuebles en relación a la competencia con características similares?"
   ]
  },
  {
   "cell_type": "markdown",
   "id": "9219c75f-d030-4d01-9619-8efee7c9fbba",
   "metadata": {},
   "source": [
    "## Próximos pasos\n",
    "\n",
    "Este notebook sirve como **punto de partida del proyecto** y guía del proceso analítico.  \n",
    "En los siguientes notebooks se desarrollarán las fases de trabajo:\n",
    "\n",
    "1. **02_Análisis de ficheros y preparación del caso:** exploración y limpieza de los datos.  \n",
    "2. **03_Creación del Datamart Analítico:** consolidación de variables y generación de un dataset analítico.  \n",
    "3. **04_Análisis y conclusiones:** interpretación de resultados, visualización de KPIs y conclusiones finales."
   ]
  }
 ],
 "metadata": {
  "kernelspec": {
   "display_name": "Python 3 (ipykernel)",
   "language": "python",
   "name": "python3"
  },
  "language_info": {
   "codemirror_mode": {
    "name": "ipython",
    "version": 3
   },
   "file_extension": ".py",
   "mimetype": "text/x-python",
   "name": "python",
   "nbconvert_exporter": "python",
   "pygments_lexer": "ipython3",
   "version": "3.12.3"
  }
 },
 "nbformat": 4,
 "nbformat_minor": 5
}
